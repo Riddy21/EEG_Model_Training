{
 "cells": [
  {
   "cell_type": "markdown",
   "id": "e31de1cd",
   "metadata": {},
   "source": [
    "# EEG Wheelchair Binary Classification ML Model\n",
    "## Using 1D Convolutional Networks and Recurrent Networks\n",
    "This is the first experiment with trying to convert 4 channel EEG brain wave data into a binary classification of stop and go for the EEG wheelchair control system.\n",
    "\n",
    "## Overview\n",
    "The following notebook will follow these next steps:\n",
    "1. Data Cleaning\n",
    "    - Get rid of inconsistent samples or bad samples\n",
    "2. Data Preprocessing\n",
    "    - Convert to wavelet transforms and take signal squeezed signals\n",
    "3. Data Filtering\n",
    "    - Filter out irrelevant frequencies and disconnections\n",
    "4. Build Model\n",
    "    - Form CNN-RNN network for prediction modelling\n",
    "5. Model Training\n",
    "    - Train model on training set of EEG Samples\n",
    "6. Hyperparameter Optimization\n",
    "    - Optimize model hyperparameters by cross validation \n",
    "7. Model Validation\n",
    "    - Validate model on test set\n"
   ]
  },
  {
   "cell_type": "code",
   "execution_count": 1,
   "id": "3e41fea6",
   "metadata": {},
   "outputs": [],
   "source": [
    "# Basic imports\n",
    "from datetime import datetime\n",
    "import numpy as np\n",
    "import glob\n",
    "import os\n",
    "import sys\n",
    "from collections import defaultdict\n",
    "from sklearn.utils import shuffle\n",
    "from sklearn.metrics import confusion_matrix, ConfusionMatrixDisplay\n",
    "import random\n",
    "from time import sleep\n",
    "\n",
    "# Data management\n",
    "import pandas as pd\n",
    "\n",
    "# Data processing\n",
    "from ssqueezepy import ssq_cwt\n",
    "\n",
    "# Model training\n",
    "from tensorflow.keras.models import Model\n",
    "from tensorflow.keras.optimizers import Adam\n",
    "from tensorflow.keras import regularizers\n",
    "from tensorflow.keras.layers import Input, Dense, Activation, Dropout, SpatialDropout1D, SpatialDropout2D, BatchNormalization\n",
    "from tensorflow.keras.layers import Flatten, InputSpec, Layer, Concatenate, AveragePooling2D, MaxPooling2D, Reshape, Permute\n",
    "from tensorflow.keras.layers import Conv2D, SeparableConv2D, DepthwiseConv2D, LayerNormalization\n",
    "from tensorflow.keras.layers import TimeDistributed, Lambda, AveragePooling1D, Add, Conv1D, Multiply\n",
    "from tensorflow.keras.constraints import max_norm, unit_norm \n",
    "from tensorflow.keras.callbacks import ModelCheckpoint, EarlyStopping\n",
    "\n",
    "import tensorflow as tf\n",
    "import matplotlib.pyplot as plt"
   ]
  },
  {
   "cell_type": "markdown",
   "id": "b5880c54",
   "metadata": {},
   "source": [
    "## Experiment Information\n",
    "Record the experiment information in these fields to be saved with the experiment"
   ]
  },
  {
   "cell_type": "code",
   "execution_count": 17,
   "id": "805987aa",
   "metadata": {},
   "outputs": [],
   "source": [
    "trial_num = 3\n",
    "attempt_num = 17\n",
    "input_dim = 195\n",
    "output_dim = 3\n",
    "attempt_description = \\\n",
    "\"\"\"\n",
    "## 17th attempt\n",
    "\n",
    "### Changes made\n",
    "- Trying the model with different dataset found online\n",
    "    - https://www.nature.com/articles/sdata2018211\n",
    "- Using the LR hand paradigm\n",
    "    - Trying directly on Time seried data with model found online\n",
    "    - https://github.com/vinayakr99/Muse-MotorImageryClassification/blob/main/MotorImagery_Training.ipynb\n",
    "- 4 channels 170 samples per frame\n",
    "- Trying to optimize the model for better results\n",
    "- Trying with original model\n",
    "\n",
    "### Expected results\n",
    "- See if we can increase the validation accuracy to 90%\n",
    "\n",
    "### Issues noticed\n",
    "\"\"\""
   ]
  },
  {
   "cell_type": "code",
   "execution_count": 18,
   "id": "878854c0",
   "metadata": {},
   "outputs": [],
   "source": [
    "# Make directories to save data\n",
    "model_dir = './models/trial%s' % trial_num\n",
    "results_dir = './results/trial%s/attempt%s' % (trial_num, attempt_num)\n",
    "interm_dir = './processed_data/trial%s/attempt%s' % (trial_num, attempt_num)\n",
    "\n",
    "model_file = os.path.join(model_dir, 'attempt%s.h5' % (attempt_num))\n",
    "summary_file = os.path.join(results_dir, 'attempt%s_summary.txt' % attempt_num)\n",
    "description_file = os.path.join(results_dir, 'attempt%s_readme.md' % attempt_num)\n",
    "accuracy_graph = os.path.join(results_dir, 'attempt%s_accuracy.png' % attempt_num)\n",
    "loss_graph = os.path.join(results_dir, 'attempt%s_loss.png' % attempt_num)\n",
    "conf_matrix = os.path.join(results_dir, 'attempt%s_confusion.png' % attempt_num)\n",
    "log_file = os.path.join(results_dir, 'attempt%s.log' % attempt_num)\n",
    "\n",
    "if not os.path.exists(model_dir):\n",
    "    os.makedirs(model_dir)\n",
    "if not os.path.exists(results_dir):\n",
    "    os.makedirs(results_dir)\n",
    "if not os.path.exists(interm_dir):\n",
    "    os.makedirs(interm_dir)\n",
    "    \n",
    "# Save description\n",
    "with open(description_file, 'w') as f:\n",
    "    f.write(attempt_description)\n",
    "    f.close()\n"
   ]
  },
  {
   "cell_type": "markdown",
   "id": "31cb0e2b",
   "metadata": {},
   "source": [
    "## Importing Data"
   ]
  },
  {
   "cell_type": "code",
   "execution_count": null,
   "id": "dac9e30d",
   "metadata": {},
   "outputs": [],
   "source": [
    "#### FOR RUNNING OPENBCI DATA ####\n",
    "import scipy.io\n",
    "mat = scipy.io.loadmat('./datasets/openbci_dataset/CLA-SubjectJ-170508-3St-LRHand-Inter.mat')\n",
    "mat2 = scipy.io.loadmat('./datasets/openbci_dataset/CLA-SubjectJ-170510-3St-LRHand-Inter.mat')\n",
    "data = np.concatenate((mat['o']['data'][0][0], mat2['o']['data'][0][0]))\n",
    "labels = np.concatenate((mat['o']['marker'][0][0].flatten(),mat2['o']['marker'][0][0].flatten()))\n",
    "print(labels.shape, data.shape)"
   ]
  },
  {
   "cell_type": "markdown",
   "id": "b92d2b86",
   "metadata": {},
   "source": [
    "### Try test file"
   ]
  },
  {
   "cell_type": "code",
   "execution_count": null,
   "id": "14b455e5",
   "metadata": {
    "scrolled": false
   },
   "outputs": [],
   "source": [
    "# Try test file\n",
    "\n",
    "# Convert to numpy arrays\n",
    "tp9, af7, af8, tp10 = data[621892-1000:621892+1000].T[:4]\n",
    "\n",
    "# Get the frequency of the samples \n",
    "Twtp9, Wtp9, *_ = ssq_cwt(tp9, fs=200)\n",
    "\n",
    "fig = plt.figure(figsize=(20, 20))\n",
    "fig.add_subplot(4, 1, 1)\n",
    "plt.plot(data[621892-1000:621892+1000])\n",
    "fig.add_subplot(4, 1, 3)\n",
    "plt.imshow(np.abs(Twtp9), aspect='auto', cmap='turbo')\n",
    "fig.add_subplot(4, 1, 2)\n",
    "plt.imshow(np.abs(Wtp9), aspect='auto', cmap='turbo')\n",
    "fig.add_subplot(4, 1, 4)\n",
    "plt.plot(labels[621892-1000:621892+1000])\n",
    "plt.show()\n"
   ]
  },
  {
   "cell_type": "code",
   "execution_count": null,
   "id": "0048c9bb",
   "metadata": {},
   "outputs": [],
   "source": [
    "##### For our data\n",
    "segments = defaultdict(list)\n",
    "\n",
    "# Number of samples per file\n",
    "SEGMENT_SIZE = 170\n",
    "\n",
    "# Number of channels per file\n",
    "CHANNELS = [1, 2, 17, 18]\n",
    "# CHANNELS = [i for i in range(1,23)]\n",
    "\n",
    "# label_map = {1: \"LEFT\",\n",
    "#              2: \"RIGHT\",\n",
    "#              3: \"PASSIVE\",\n",
    "#              0: \"REMOVED\"}\n",
    "\n",
    "# Only use the left right passive signals\n",
    "label_map = {1: \"LEFT\",\n",
    "             2: \"RIGHT\",\n",
    "             3: \"PASSIVE\"}\n",
    "\n",
    "# Compile each 1s session into file\n",
    "segment = []\n",
    "for i in range(len(labels)):\n",
    "    try:\n",
    "        label = label_map[labels[i]]\n",
    "    except KeyError:\n",
    "        continue\n",
    "    # Append the previous file and open new file\n",
    "    if i+1 == len(labels) or labels[i] != labels[i+1] or len(segment) == SEGMENT_SIZE:\n",
    "        # Split any that are large then FILE_SIZE and discard any that is smaller\n",
    "        if len(segment) == SEGMENT_SIZE:\n",
    "            segments[label].append(np.array(segment).T)\n",
    "        segment = []\n",
    "        \n",
    "    segment.append(np.take(data[i], [chan - 1 for chan in CHANNELS]))\n",
    "    \n",
    "    \n",
    "print(\"Total:\")\n",
    "for val in label_map.values():\n",
    "    print('    There are %d segments with %s label of shape %s' % (len(segments[val]), val, segments[val][0].shape))\n",
    "    \n",
    "max_num_segments = min([len(segments[key]) for key in label_map.values()])\n",
    "\n",
    "train_segments = defaultdict(list)\n",
    "test_segments = defaultdict(list)\n",
    "val_segments = defaultdict(list)\n",
    "\n",
    "#             [train, test, vali]\n",
    "split_ratio = [0.8, 0.1, 0.1]\n",
    "\n",
    "# Split the data to training test and val\n",
    "for key in label_map.values():\n",
    "    train_segments[key], test_segments[key], val_segments[key] = \\\n",
    "            np.split(shuffle(segments[key])[:max_num_segments], # Shuffle the data\n",
    "                     [int(sum(split_ratio[:i+1])*max_num_segments) for i in range(len(split_ratio)-1)])\n",
    "\n",
    "print(\"Training: \")\n",
    "for val in label_map.values():\n",
    "    print('    There are %d segments with %s label of shape %s' % (len(train_segments[val]), val, train_segments[val].shape))\n",
    "    \n",
    "print(\"Testing: \")\n",
    "for val in label_map.values():\n",
    "    print('    There are %d segments with %s label of shape %s' % (len(test_segments[val]), val, test_segments[val].shape))\n",
    "    \n",
    "print(\"Validation: \")\n",
    "for val in label_map.values():\n",
    "    print('    There are %d segments with %s label of shape %s' % (len(val_segments[val]), val, val_segments[val].shape))\n",
    "    "
   ]
  },
  {
   "cell_type": "markdown",
   "id": "8ac7e119",
   "metadata": {},
   "source": [
    "## Convert to wavelet transform signal squeezed"
   ]
  },
  {
   "cell_type": "code",
   "execution_count": null,
   "id": "bbab74cf",
   "metadata": {},
   "outputs": [],
   "source": [
    "SAMPLE_RATE = 200\n",
    "def ts_to_ssq(timeseries):\n",
    "    \"\"\"\n",
    "    Converts x channel time series data to ssq wavelet transform\n",
    "    \"\"\"\n",
    "    ssqcwt = []\n",
    "    for channel in timeseries:\n",
    "        out, _, *_ = ssq_cwt(channel, fs=SAMPLE_RATE)\n",
    "        ssqcwt.append(out)\n",
    "    \n",
    "    return np.array(ssqcwt)"
   ]
  },
  {
   "cell_type": "code",
   "execution_count": null,
   "id": "e8fc6b5d",
   "metadata": {},
   "outputs": [],
   "source": [
    "original_frame_size = SEGMENT_SIZE\n",
    "buffer_frame_size = SEGMENT_SIZE # 0.85s\n",
    "training_frame_size = 170\n",
    "# training_sample_size = SEGMENT_SIZE\n",
    "MAX_FREQ = 34\n",
    "\n",
    "key_dict = {\"LEFT\":(1.0, 0.0, 0.0),\n",
    "            \"RIGHT\":(0.0, 1.0, 0.0),\n",
    "            \"PASSIVE\": (0.0, 0.0, 1.0)}\n",
    "\n",
    "\n",
    "def compile_segments(segments, seg_type):\n",
    "    X = []\n",
    "    t = []\n",
    "    \n",
    "    num_segments = sum([len(x) for x in segments.values()])\n",
    "    \n",
    "    for key, data in segments.items():\n",
    "        for recording in data:\n",
    "            # if segment is smaller than sample size\n",
    "            if len(recording[0]) < original_frame_size:\n",
    "                continue\n",
    "\n",
    "            # Split file into buffer size samples\n",
    "            time_samples = np.split(recording,\n",
    "                                    int(original_frame_size/buffer_frame_size), axis=1)\n",
    "\n",
    "            for time_sample in time_samples:\n",
    "                # Convert to numpy arrays\n",
    "#                 ssq_data = ts_to_ssq(time_sample)\n",
    "\n",
    "#                 # Take the magnitude of the wavelet transform only\n",
    "#                 ssq_data = np.abs(ssq_data)\n",
    "                \n",
    "#                 # Trim unwanted frequencies\n",
    "#                 ssq_data = ssq_data[:,:MAX_FREQ, :]\n",
    "\n",
    "#                 # Split sample into many blocks\n",
    "#                 wavelet_samples = np.dsplit(ssq_data, int(buffer_frame_size/training_frame_size))\n",
    "                time_frames = np.hsplit(time_sample, int(buffer_frame_size/training_frame_size))\n",
    "\n",
    "                X.extend(time_frames)\n",
    "                t.extend([key_dict[key] for i in range(len(time_frames))])\n",
    "                \n",
    "            num_segments -= 1\n",
    "            \n",
    "            print(\"%d %s segments left to convert \" % (num_segments, seg_type), end=\"\\r\")\n",
    "                \n",
    "    return np.array(X), np.array(t)"
   ]
  },
  {
   "cell_type": "code",
   "execution_count": null,
   "id": "c27cea15",
   "metadata": {
    "scrolled": true
   },
   "outputs": [],
   "source": [
    "# Compile all files into train data\n",
    "X_train, t_train = compile_segments(train_segments, 'train')\n",
    "\n",
    "X_test, t_test = compile_segments(test_segments, 'test')\n",
    "\n",
    "X_val, t_val = compile_segments(val_segments, 'val')"
   ]
  },
  {
   "cell_type": "code",
   "execution_count": null,
   "id": "27f695b3",
   "metadata": {
    "scrolled": false
   },
   "outputs": [],
   "source": [
    "print(\"Training data\")\n",
    "print(X_train.shape)\n",
    "print(t_train.shape)\n",
    "print(\"Testing data\")\n",
    "print(X_test.shape)\n",
    "print(t_test.shape)\n",
    "print(\"Validation data\")\n",
    "print(X_val.shape)\n",
    "print(t_val.shape)"
   ]
  },
  {
   "cell_type": "code",
   "execution_count": null,
   "id": "ef006cf3",
   "metadata": {},
   "outputs": [],
   "source": [
    "# Save the ssq data\n",
    "np.save(os.path.join(interm_dir, 'x_train.npy'), X_train)\n",
    "np.save(os.path.join(interm_dir, 't_train.npy'), t_train)\n",
    "np.save(os.path.join(interm_dir, 'x_test.npy'), X_test)\n",
    "np.save(os.path.join(interm_dir, 't_test.npy'), t_test)\n",
    "np.save(os.path.join(interm_dir, 'x_val.npy'), X_val)\n",
    "np.save(os.path.join(interm_dir, 't_val.npy'), t_val)\n"
   ]
  },
  {
   "cell_type": "markdown",
   "id": "1a794b1a",
   "metadata": {},
   "source": [
    "## *Shortcut: Load Preprocessed Saved Data*"
   ]
  },
  {
   "cell_type": "code",
   "execution_count": 19,
   "id": "7799e6bf",
   "metadata": {},
   "outputs": [],
   "source": [
    "# Load ssq data\n",
    "interm_dir = './processed_data/trial3/attempt15/'\n",
    "X_train = np.load(os.path.join(interm_dir, 'x_train.npy'))\n",
    "t_train = np.load(os.path.join(interm_dir, 't_train.npy'))\n",
    "X_test = np.load(os.path.join(interm_dir, 'x_test.npy'))\n",
    "t_test = np.load(os.path.join(interm_dir, 't_test.npy'))\n",
    "X_val = np.load(os.path.join(interm_dir, 'x_val.npy'))\n",
    "t_val = np.load(os.path.join(interm_dir, 't_val.npy'))"
   ]
  },
  {
   "cell_type": "markdown",
   "id": "3b0b83e2",
   "metadata": {},
   "source": [
    "## Shuffle data"
   ]
  },
  {
   "cell_type": "code",
   "execution_count": 5,
   "id": "9a39d91a",
   "metadata": {},
   "outputs": [],
   "source": [
    "# Shuffle the data\n",
    "X_train, t_train = shuffle(X_train, t_train)\n",
    "X_test, t_test = shuffle(X_test, t_test)\n",
    "X_val, t_val = shuffle(X_val, t_val)"
   ]
  },
  {
   "cell_type": "code",
   "execution_count": null,
   "id": "b1551114",
   "metadata": {},
   "outputs": [],
   "source": [
    "X_train_full = X_train\n",
    "X_train = X_train[:100]\n",
    "t_train_full = t_train\n",
    "t_train = t_train[:100]"
   ]
  },
  {
   "cell_type": "code",
   "execution_count": null,
   "id": "9e5c6f4c",
   "metadata": {},
   "outputs": [],
   "source": [
    "# Reshape the data for training\n",
    "X_train = X_train.transpose(0, 3, 2, 1)\n",
    "\n",
    "X_test = X_test.transpose(0, 3, 2, 1)\n",
    "\n",
    "# Reshape the data for training\n",
    "X_val = X_val.transpose(0, 3, 2, 1)"
   ]
  },
  {
   "cell_type": "code",
   "execution_count": 20,
   "id": "76cc08ca",
   "metadata": {},
   "outputs": [
    {
     "data": {
      "text/plain": [
       "(1359, 4, 170)"
      ]
     },
     "execution_count": 20,
     "metadata": {},
     "output_type": "execute_result"
    }
   ],
   "source": [
    "X_train.shape"
   ]
  },
  {
   "cell_type": "code",
   "execution_count": 7,
   "id": "787e2371",
   "metadata": {},
   "outputs": [
    {
     "data": {
      "text/plain": [
       "(1359, 3)"
      ]
     },
     "execution_count": 7,
     "metadata": {},
     "output_type": "execute_result"
    }
   ],
   "source": [
    "t_train.shape"
   ]
  },
  {
   "cell_type": "code",
   "execution_count": null,
   "id": "4d0b7347",
   "metadata": {},
   "outputs": [],
   "source": [
    "np.argwhere(np.isnan(X_train))"
   ]
  },
  {
   "cell_type": "code",
   "execution_count": null,
   "id": "8f6ffeba",
   "metadata": {},
   "outputs": [],
   "source": [
    "counts = [0, 0, 0]\n",
    "for data in t_train:\n",
    "    for i in range(3):\n",
    "        if data[i] == 1:\n",
    "            counts[i] += 1\n",
    "  \n",
    "print(\"Balance of categories\")\n",
    "print(counts)"
   ]
  },
  {
   "cell_type": "markdown",
   "id": "6645adbf",
   "metadata": {},
   "source": [
    "## Train Model"
   ]
  },
  {
   "cell_type": "code",
   "execution_count": 22,
   "id": "14cb772c",
   "metadata": {
    "scrolled": true
   },
   "outputs": [
    {
     "name": "stdout",
     "output_type": "stream",
     "text": [
      "Training data dimensions = (1359, 4, 170)\n"
     ]
    }
   ],
   "source": [
    "num_frames = len(X_train)\n",
    "num_channels = len(X_train[0])\n",
    "frame_size = len(X_train[0][0])\n",
    "\n",
    "print('Training data dimensions = (%s, %s, %s)' % (num_frames, num_channels, frame_size))\n",
    "\n",
    "n_ff = [2,4,8,16]    # Number of frequency filters for each inception module of EEG-ITNet\n",
    "n_sf = [1,1,1,1]     # Number of spatial filters in each frequency sub-band of EEG-ITNet\n",
    "\n",
    "drop_rate = 0.2\n",
    "\n",
    "# Input layer\n",
    "input_layer = Input(shape=(num_channels, frame_size, 1))\n",
    "\n",
    "block1 = Conv2D(n_ff[0], (1, 16), use_bias = False, activation = 'linear', padding='same', name = 'Spectral_filter_1')(input_layer)\n",
    "block1 = BatchNormalization()(block1)\n",
    "block1 = DepthwiseConv2D((num_channels, 1), use_bias = False, padding='valid', depth_multiplier = n_sf[0], activation = 'linear', \n",
    "                       depthwise_constraint = tf.keras.constraints.MaxNorm(max_value=1), name = 'Spatial_filter_1')(block1)\n",
    "block1 = BatchNormalization()(block1)\n",
    "block1 = Activation('elu')(block1)\n",
    "\n",
    "#================================\n",
    "\n",
    "block2 = Conv2D(n_ff[1], (1, 32), use_bias = False, activation = 'linear', padding='same', name = 'Spectral_filter_2')(input_layer)\n",
    "block2 = BatchNormalization()(block2)\n",
    "block2 = DepthwiseConv2D((num_channels, 1), use_bias = False, padding='valid', depth_multiplier = n_sf[1], activation = 'linear', \n",
    "                       depthwise_constraint = tf.keras.constraints.MaxNorm(max_value=1), name = 'Spatial_filter_2')(block2)\n",
    "block2 = BatchNormalization()(block2)\n",
    "block2 = Activation('elu')(block2)\n",
    "\n",
    "#================================\n",
    "\n",
    "block3 = Conv2D(n_ff[2], (1, 64), use_bias = False, activation = 'linear', padding='same', name = 'Spectral_filter_3')(input_layer)\n",
    "block3 = BatchNormalization()(block3)\n",
    "block3 = DepthwiseConv2D((num_channels, 1), use_bias = False, padding='valid', depth_multiplier = n_sf[2], activation = 'linear', \n",
    "                       depthwise_constraint = tf.keras.constraints.MaxNorm(max_value=1), name = 'Spatial_filter_3')(block3)\n",
    "block3 = BatchNormalization()(block3)\n",
    "block3 = Activation('elu')(block3)\n",
    "\n",
    "#================================\n",
    "\n",
    "block4 = Conv2D(n_ff[3], (1, 128), use_bias = False, activation = 'linear', padding='same', name = 'Spectral_filter_4')(input_layer)\n",
    "block4 = BatchNormalization()(block4)\n",
    "block4 = DepthwiseConv2D((num_channels, 1), use_bias = False, padding='valid', depth_multiplier = n_sf[3], activation = 'linear', \n",
    "                       depthwise_constraint = tf.keras.constraints.MaxNorm(max_value=1), name = 'Spatial_filter_4')(block4)\n",
    "block4 = BatchNormalization()(block4)\n",
    "block4 = Activation('elu')(block4)\n",
    "\n",
    "#================================\n",
    "\n",
    "block = Concatenate(axis = -1)([block1, block2, block3, block4]) \n",
    "\n",
    "#================================\n",
    "\n",
    "block = AveragePooling2D((1, 4))(block)\n",
    "block_in = Dropout(drop_rate)(block)\n",
    "\n",
    "#================================\n",
    "\n",
    "paddings = tf.constant([[0,0], [0,0], [3,0], [0,0]])\n",
    "block = tf.pad(block_in, paddings, \"CONSTANT\")\n",
    "block = DepthwiseConv2D((1,4), padding=\"valid\", depth_multiplier=1, dilation_rate=(1, 1))(block)\n",
    "block = BatchNormalization()(block)\n",
    "block = Activation('elu')(block)\n",
    "block = Dropout(drop_rate)(block)\n",
    "block = tf.pad(block, paddings, \"CONSTANT\")\n",
    "block = DepthwiseConv2D((1,4), padding=\"valid\", depth_multiplier=1, dilation_rate=(1, 1))(block)\n",
    "block = BatchNormalization()(block)\n",
    "block = Activation('elu')(block)\n",
    "block = Dropout(drop_rate)(block)\n",
    "block_out = Add()([block_in, block])\n",
    "\n",
    "\n",
    "paddings = tf.constant([[0,0], [0,0], [6,0], [0,0]])\n",
    "block = tf.pad(block_out, paddings, \"CONSTANT\")\n",
    "block = DepthwiseConv2D((1,4), padding=\"valid\", depth_multiplier=1, dilation_rate=(1, 2))(block)\n",
    "block = BatchNormalization()(block)\n",
    "block = Activation('elu')(block)\n",
    "block = Dropout(drop_rate)(block)\n",
    "block = tf.pad(block, paddings, \"CONSTANT\")\n",
    "block = DepthwiseConv2D((1,4), padding=\"valid\", depth_multiplier=1, dilation_rate=(1, 2))(block)\n",
    "block = BatchNormalization()(block)\n",
    "block = Activation('elu')(block)\n",
    "block = Dropout(drop_rate)(block)\n",
    "block_out = Add()([block_out, block])\n",
    "\n",
    "\n",
    "paddings = tf.constant([[0,0], [0,0], [12,0], [0,0]])\n",
    "block = tf.pad(block_out, paddings, \"CONSTANT\")\n",
    "block = DepthwiseConv2D((1,4), padding=\"valid\", depth_multiplier=1, dilation_rate=(1, 4))(block)\n",
    "block = BatchNormalization()(block)\n",
    "block = Activation('elu')(block)\n",
    "block = Dropout(drop_rate)(block)\n",
    "block = tf.pad(block, paddings, \"CONSTANT\")\n",
    "block = DepthwiseConv2D((1,4), padding=\"valid\", depth_multiplier=1, dilation_rate=(1, 4))(block)\n",
    "block = BatchNormalization()(block)\n",
    "block = Activation('elu')(block)\n",
    "block = Dropout(drop_rate)(block)\n",
    "block_out = Add()([block_out, block]) \n",
    "\n",
    "\n",
    "paddings = tf.constant([[0,0], [0,0], [24,0], [0,0]])\n",
    "block = tf.pad(block_out, paddings, \"CONSTANT\")\n",
    "block = DepthwiseConv2D((1,4), padding=\"valid\", depth_multiplier=1, dilation_rate=(1, 8))(block)\n",
    "block = BatchNormalization()(block)\n",
    "block = Activation('elu')(block)\n",
    "block = Dropout(drop_rate)(block)\n",
    "block = tf.pad(block, paddings, \"CONSTANT\")\n",
    "block = DepthwiseConv2D((1,4), padding=\"valid\", depth_multiplier=1, dilation_rate=(1, 8))(block)\n",
    "block = BatchNormalization()(block)\n",
    "block = Activation('elu')(block)\n",
    "block = Dropout(drop_rate)(block)\n",
    "block_out = Add()([block_out, block]) \n",
    "\n",
    "#================================\n",
    "\n",
    "block = block_out\n",
    "\n",
    "#================================\n",
    "\n",
    "block = Conv2D(28, (1,1))(block)\n",
    "block = BatchNormalization()(block)\n",
    "block = Activation('elu')(block)\n",
    "block = AveragePooling2D((1,4), data_format='Channels_last')(block) #'Channels_last' As CPU will be used for inference\n",
    "block = Dropout(drop_rate)(block) \n",
    "embedded = Flatten()(block)\n",
    "\n",
    "output = Dense(len(t_train[0]), activation='softmax', kernel_constraint = max_norm(0.2))(embedded)\n",
    "    \n",
    "model = Model(inputs=input_layer, outputs=output)"
   ]
  },
  {
   "cell_type": "code",
   "execution_count": 23,
   "id": "f493cf16",
   "metadata": {},
   "outputs": [],
   "source": [
    "adam = Adam(learning_rate=0.0001, beta_1=0.9, beta_2=0.999, clipvalue=0.01)\n",
    "model.compile(optimizer=adam, loss='categorical_crossentropy', metrics=['accuracy'])"
   ]
  },
  {
   "cell_type": "code",
   "execution_count": 24,
   "id": "a1f605c8",
   "metadata": {
    "scrolled": true
   },
   "outputs": [
    {
     "name": "stdout",
     "output_type": "stream",
     "text": [
      "Model: \"model\"\n",
      "__________________________________________________________________________________________________\n",
      "Layer (type)                    Output Shape         Param #     Connected to                     \n",
      "==================================================================================================\n",
      "input_1 (InputLayer)            [(None, 4, 170, 1)]  0                                            \n",
      "__________________________________________________________________________________________________\n",
      "Spectral_filter_1 (Conv2D)      (None, 4, 170, 2)    32          input_1[0][0]                    \n",
      "__________________________________________________________________________________________________\n",
      "Spectral_filter_2 (Conv2D)      (None, 4, 170, 4)    128         input_1[0][0]                    \n",
      "__________________________________________________________________________________________________\n",
      "Spectral_filter_3 (Conv2D)      (None, 4, 170, 8)    512         input_1[0][0]                    \n",
      "__________________________________________________________________________________________________\n",
      "Spectral_filter_4 (Conv2D)      (None, 4, 170, 16)   2048        input_1[0][0]                    \n",
      "__________________________________________________________________________________________________\n",
      "batch_normalization (BatchNorma (None, 4, 170, 2)    8           Spectral_filter_1[0][0]          \n",
      "__________________________________________________________________________________________________\n",
      "batch_normalization_2 (BatchNor (None, 4, 170, 4)    16          Spectral_filter_2[0][0]          \n",
      "__________________________________________________________________________________________________\n",
      "batch_normalization_4 (BatchNor (None, 4, 170, 8)    32          Spectral_filter_3[0][0]          \n",
      "__________________________________________________________________________________________________\n",
      "batch_normalization_6 (BatchNor (None, 4, 170, 16)   64          Spectral_filter_4[0][0]          \n",
      "__________________________________________________________________________________________________\n",
      "Spatial_filter_1 (DepthwiseConv (None, 1, 170, 2)    8           batch_normalization[0][0]        \n",
      "__________________________________________________________________________________________________\n",
      "Spatial_filter_2 (DepthwiseConv (None, 1, 170, 4)    16          batch_normalization_2[0][0]      \n",
      "__________________________________________________________________________________________________\n",
      "Spatial_filter_3 (DepthwiseConv (None, 1, 170, 8)    32          batch_normalization_4[0][0]      \n",
      "__________________________________________________________________________________________________\n",
      "Spatial_filter_4 (DepthwiseConv (None, 1, 170, 16)   64          batch_normalization_6[0][0]      \n",
      "__________________________________________________________________________________________________\n",
      "batch_normalization_1 (BatchNor (None, 1, 170, 2)    8           Spatial_filter_1[0][0]           \n",
      "__________________________________________________________________________________________________\n",
      "batch_normalization_3 (BatchNor (None, 1, 170, 4)    16          Spatial_filter_2[0][0]           \n",
      "__________________________________________________________________________________________________\n",
      "batch_normalization_5 (BatchNor (None, 1, 170, 8)    32          Spatial_filter_3[0][0]           \n",
      "__________________________________________________________________________________________________\n",
      "batch_normalization_7 (BatchNor (None, 1, 170, 16)   64          Spatial_filter_4[0][0]           \n",
      "__________________________________________________________________________________________________\n",
      "activation (Activation)         (None, 1, 170, 2)    0           batch_normalization_1[0][0]      \n",
      "__________________________________________________________________________________________________\n",
      "activation_1 (Activation)       (None, 1, 170, 4)    0           batch_normalization_3[0][0]      \n",
      "__________________________________________________________________________________________________\n",
      "activation_2 (Activation)       (None, 1, 170, 8)    0           batch_normalization_5[0][0]      \n",
      "__________________________________________________________________________________________________\n",
      "activation_3 (Activation)       (None, 1, 170, 16)   0           batch_normalization_7[0][0]      \n",
      "__________________________________________________________________________________________________\n",
      "concatenate (Concatenate)       (None, 1, 170, 30)   0           activation[0][0]                 \n",
      "                                                                 activation_1[0][0]               \n",
      "                                                                 activation_2[0][0]               \n",
      "                                                                 activation_3[0][0]               \n",
      "__________________________________________________________________________________________________\n",
      "average_pooling2d (AveragePooli (None, 1, 42, 30)    0           concatenate[0][0]                \n",
      "__________________________________________________________________________________________________\n",
      "dropout (Dropout)               (None, 1, 42, 30)    0           average_pooling2d[0][0]          \n",
      "__________________________________________________________________________________________________\n",
      "tf_op_layer_Pad (TensorFlowOpLa [(None, 1, 45, 30)]  0           dropout[0][0]                    \n",
      "__________________________________________________________________________________________________\n",
      "depthwise_conv2d (DepthwiseConv (None, 1, 42, 30)    150         tf_op_layer_Pad[0][0]            \n",
      "__________________________________________________________________________________________________\n",
      "batch_normalization_8 (BatchNor (None, 1, 42, 30)    120         depthwise_conv2d[0][0]           \n",
      "__________________________________________________________________________________________________\n",
      "activation_4 (Activation)       (None, 1, 42, 30)    0           batch_normalization_8[0][0]      \n",
      "__________________________________________________________________________________________________\n",
      "dropout_1 (Dropout)             (None, 1, 42, 30)    0           activation_4[0][0]               \n",
      "__________________________________________________________________________________________________\n",
      "tf_op_layer_Pad_1 (TensorFlowOp [(None, 1, 45, 30)]  0           dropout_1[0][0]                  \n",
      "__________________________________________________________________________________________________\n",
      "depthwise_conv2d_1 (DepthwiseCo (None, 1, 42, 30)    150         tf_op_layer_Pad_1[0][0]          \n",
      "__________________________________________________________________________________________________\n",
      "batch_normalization_9 (BatchNor (None, 1, 42, 30)    120         depthwise_conv2d_1[0][0]         \n",
      "__________________________________________________________________________________________________\n",
      "activation_5 (Activation)       (None, 1, 42, 30)    0           batch_normalization_9[0][0]      \n",
      "__________________________________________________________________________________________________\n",
      "dropout_2 (Dropout)             (None, 1, 42, 30)    0           activation_5[0][0]               \n",
      "__________________________________________________________________________________________________\n",
      "add (Add)                       (None, 1, 42, 30)    0           dropout[0][0]                    \n",
      "                                                                 dropout_2[0][0]                  \n",
      "__________________________________________________________________________________________________\n",
      "tf_op_layer_Pad_2 (TensorFlowOp [(None, 1, 48, 30)]  0           add[0][0]                        \n",
      "__________________________________________________________________________________________________\n",
      "depthwise_conv2d_2 (DepthwiseCo (None, 1, 42, 30)    150         tf_op_layer_Pad_2[0][0]          \n",
      "__________________________________________________________________________________________________\n",
      "batch_normalization_10 (BatchNo (None, 1, 42, 30)    120         depthwise_conv2d_2[0][0]         \n",
      "__________________________________________________________________________________________________\n",
      "activation_6 (Activation)       (None, 1, 42, 30)    0           batch_normalization_10[0][0]     \n",
      "__________________________________________________________________________________________________\n",
      "dropout_3 (Dropout)             (None, 1, 42, 30)    0           activation_6[0][0]               \n",
      "__________________________________________________________________________________________________\n",
      "tf_op_layer_Pad_3 (TensorFlowOp [(None, 1, 48, 30)]  0           dropout_3[0][0]                  \n",
      "__________________________________________________________________________________________________\n",
      "depthwise_conv2d_3 (DepthwiseCo (None, 1, 42, 30)    150         tf_op_layer_Pad_3[0][0]          \n",
      "__________________________________________________________________________________________________\n",
      "batch_normalization_11 (BatchNo (None, 1, 42, 30)    120         depthwise_conv2d_3[0][0]         \n",
      "__________________________________________________________________________________________________\n",
      "activation_7 (Activation)       (None, 1, 42, 30)    0           batch_normalization_11[0][0]     \n",
      "__________________________________________________________________________________________________\n",
      "dropout_4 (Dropout)             (None, 1, 42, 30)    0           activation_7[0][0]               \n",
      "__________________________________________________________________________________________________\n",
      "add_1 (Add)                     (None, 1, 42, 30)    0           add[0][0]                        \n",
      "                                                                 dropout_4[0][0]                  \n",
      "__________________________________________________________________________________________________\n",
      "tf_op_layer_Pad_4 (TensorFlowOp [(None, 1, 54, 30)]  0           add_1[0][0]                      \n",
      "__________________________________________________________________________________________________\n",
      "depthwise_conv2d_4 (DepthwiseCo (None, 1, 42, 30)    150         tf_op_layer_Pad_4[0][0]          \n",
      "__________________________________________________________________________________________________\n",
      "batch_normalization_12 (BatchNo (None, 1, 42, 30)    120         depthwise_conv2d_4[0][0]         \n",
      "__________________________________________________________________________________________________\n",
      "activation_8 (Activation)       (None, 1, 42, 30)    0           batch_normalization_12[0][0]     \n",
      "__________________________________________________________________________________________________\n",
      "dropout_5 (Dropout)             (None, 1, 42, 30)    0           activation_8[0][0]               \n",
      "__________________________________________________________________________________________________\n",
      "tf_op_layer_Pad_5 (TensorFlowOp [(None, 1, 54, 30)]  0           dropout_5[0][0]                  \n",
      "__________________________________________________________________________________________________\n",
      "depthwise_conv2d_5 (DepthwiseCo (None, 1, 42, 30)    150         tf_op_layer_Pad_5[0][0]          \n",
      "__________________________________________________________________________________________________\n",
      "batch_normalization_13 (BatchNo (None, 1, 42, 30)    120         depthwise_conv2d_5[0][0]         \n",
      "__________________________________________________________________________________________________\n",
      "activation_9 (Activation)       (None, 1, 42, 30)    0           batch_normalization_13[0][0]     \n",
      "__________________________________________________________________________________________________\n",
      "dropout_6 (Dropout)             (None, 1, 42, 30)    0           activation_9[0][0]               \n",
      "__________________________________________________________________________________________________\n",
      "add_2 (Add)                     (None, 1, 42, 30)    0           add_1[0][0]                      \n",
      "                                                                 dropout_6[0][0]                  \n",
      "__________________________________________________________________________________________________\n",
      "tf_op_layer_Pad_6 (TensorFlowOp [(None, 1, 66, 30)]  0           add_2[0][0]                      \n",
      "__________________________________________________________________________________________________\n",
      "depthwise_conv2d_6 (DepthwiseCo (None, 1, 42, 30)    150         tf_op_layer_Pad_6[0][0]          \n",
      "__________________________________________________________________________________________________\n",
      "batch_normalization_14 (BatchNo (None, 1, 42, 30)    120         depthwise_conv2d_6[0][0]         \n",
      "__________________________________________________________________________________________________\n",
      "activation_10 (Activation)      (None, 1, 42, 30)    0           batch_normalization_14[0][0]     \n",
      "__________________________________________________________________________________________________\n",
      "dropout_7 (Dropout)             (None, 1, 42, 30)    0           activation_10[0][0]              \n",
      "__________________________________________________________________________________________________\n",
      "tf_op_layer_Pad_7 (TensorFlowOp [(None, 1, 66, 30)]  0           dropout_7[0][0]                  \n",
      "__________________________________________________________________________________________________\n",
      "depthwise_conv2d_7 (DepthwiseCo (None, 1, 42, 30)    150         tf_op_layer_Pad_7[0][0]          \n",
      "__________________________________________________________________________________________________\n",
      "batch_normalization_15 (BatchNo (None, 1, 42, 30)    120         depthwise_conv2d_7[0][0]         \n",
      "__________________________________________________________________________________________________\n",
      "activation_11 (Activation)      (None, 1, 42, 30)    0           batch_normalization_15[0][0]     \n",
      "__________________________________________________________________________________________________\n",
      "dropout_8 (Dropout)             (None, 1, 42, 30)    0           activation_11[0][0]              \n",
      "__________________________________________________________________________________________________\n",
      "add_3 (Add)                     (None, 1, 42, 30)    0           add_2[0][0]                      \n",
      "                                                                 dropout_8[0][0]                  \n",
      "__________________________________________________________________________________________________\n",
      "conv2d (Conv2D)                 (None, 1, 42, 28)    868         add_3[0][0]                      \n",
      "__________________________________________________________________________________________________\n",
      "batch_normalization_16 (BatchNo (None, 1, 42, 28)    112         conv2d[0][0]                     \n",
      "__________________________________________________________________________________________________\n",
      "activation_12 (Activation)      (None, 1, 42, 28)    0           batch_normalization_16[0][0]     \n",
      "__________________________________________________________________________________________________\n",
      "average_pooling2d_1 (AveragePoo (None, 1, 10, 28)    0           activation_12[0][0]              \n",
      "__________________________________________________________________________________________________\n",
      "dropout_9 (Dropout)             (None, 1, 10, 28)    0           average_pooling2d_1[0][0]        \n",
      "__________________________________________________________________________________________________\n",
      "flatten (Flatten)               (None, 280)          0           dropout_9[0][0]                  \n",
      "__________________________________________________________________________________________________\n",
      "dense (Dense)                   (None, 3)            843         flatten[0][0]                    \n",
      "==================================================================================================\n",
      "Total params: 7,063\n",
      "Trainable params: 6,407\n",
      "Non-trainable params: 656\n",
      "__________________________________________________________________________________________________\n"
     ]
    }
   ],
   "source": [
    "with open(summary_file, 'w') as fh:\n",
    "    # Pass the file handle in as a lambda function to make it callable\n",
    "    model.summary(print_fn=lambda x: fh.write(x + '\\n'))\n",
    "    fh.close()\n",
    "    \n",
    "model.summary()"
   ]
  },
  {
   "cell_type": "code",
   "execution_count": null,
   "id": "ac2d356a",
   "metadata": {},
   "outputs": [],
   "source": [
    "model.get_weights()"
   ]
  },
  {
   "cell_type": "code",
   "execution_count": 25,
   "id": "c544ba26",
   "metadata": {
    "scrolled": false
   },
   "outputs": [],
   "source": [
    "stdout = sys.stdout\n",
    "f = open(log_file, 'w')\n",
    "sys.stdout = f\n",
    "model_checkpoint_callback = ModelCheckpoint(\n",
    "    filepath=model_file,\n",
    "    save_weights_only=False,\n",
    "    monitor='val_accuracy',\n",
    "    mode='max',\n",
    "    save_best_only=True)\n",
    "try:\n",
    "    results = model.fit(X_train, t_train, validation_data=(X_val, t_val), batch_size=32, epochs=500, shuffle=True, callbacks=[model_checkpoint_callback])\n",
    "    sys.stdout = stdout\n",
    "    f.close()\n",
    "except Exception as e:\n",
    "    sys.stdout = stdout\n",
    "    f.close()\n",
    "    print(e)\n",
    "except KeyboardInterrupt as e:\n",
    "    sys.stdout = stdout\n",
    "    f.close()\n",
    "    print(e)"
   ]
  },
  {
   "cell_type": "code",
   "execution_count": null,
   "id": "be15f809",
   "metadata": {},
   "outputs": [],
   "source": [
    "sys.stdout = stdout\n",
    "f.close()"
   ]
  },
  {
   "cell_type": "code",
   "execution_count": null,
   "id": "04ac6764",
   "metadata": {},
   "outputs": [],
   "source": [
    "# To save the model\n",
    "model.save(model_file)"
   ]
  },
  {
   "cell_type": "code",
   "execution_count": 41,
   "id": "fc96388b",
   "metadata": {},
   "outputs": [],
   "source": [
    "\n",
    "model = tf.keras.models.load_model(model_file)"
   ]
  },
  {
   "cell_type": "code",
   "execution_count": 33,
   "id": "d2fa9522",
   "metadata": {
    "scrolled": true
   },
   "outputs": [
    {
     "name": "stdout",
     "output_type": "stream",
     "text": [
      "171/171 [==============================] - 1s 8ms/step - loss: 0.5434 - accuracy: 0.7895\n"
     ]
    }
   ],
   "source": [
    "test_results = model.evaluate(X_test, t_test, batch_size = 1)"
   ]
  },
  {
   "cell_type": "code",
   "execution_count": null,
   "id": "d1eb4994",
   "metadata": {
    "scrolled": true
   },
   "outputs": [],
   "source": [
    "model.predict(X_test)"
   ]
  },
  {
   "cell_type": "code",
   "execution_count": null,
   "id": "19e6666c",
   "metadata": {
    "scrolled": true
   },
   "outputs": [],
   "source": [
    "t_test"
   ]
  },
  {
   "cell_type": "code",
   "execution_count": 34,
   "id": "d918cf37",
   "metadata": {
    "scrolled": false
   },
   "outputs": [
    {
     "data": {
      "image/png": "[encoded data removed]",
      "text/plain": [
       "<Figure size 640x480 with 1 Axes>"
      ]
     },
     "metadata": {},
     "output_type": "display_data"
    }
   ],
   "source": [
    "plt.plot(results.history['loss'])\n",
    "plt.plot(results.history['val_loss'])\n",
    "plt.plot([test_results[0] for i in range(len(results.history['loss']))])\n",
    "plt.legend(('training loss', 'validation loss', 'test loss'))\n",
    "plt.xlabel(\"Epoch\")\n",
    "plt.ylabel(\"Loss\")\n",
    "plt.title(\"Trial %s Attempt %s Loss\" % (trial_num, attempt_num))\n",
    "plt.grid()\n",
    "plt.savefig(loss_graph)"
   ]
  },
  {
   "cell_type": "code",
   "execution_count": 35,
   "id": "48bdf3cf",
   "metadata": {
    "scrolled": true
   },
   "outputs": [
    {
     "data": {
      "image/png": "[encoded data removed]",
      "text/plain": [
       "<Figure size 640x480 with 1 Axes>"
      ]
     },
     "metadata": {},
     "output_type": "display_data"
    }
   ],
   "source": [
    "plt.plot(results.history['accuracy'])\n",
    "plt.plot(results.history['val_accuracy'])\n",
    "plt.plot([test_results[1] for i in range(len(results.history['accuracy']))])\n",
    "plt.legend(('training accuracy', 'validation accuracy', 'test accuracy'))\n",
    "plt.xlabel(\"Epoch\")\n",
    "plt.ylabel(\"Accuracy\")\n",
    "plt.title(\"Trial %s Attempt %s Accuracy\" % (trial_num, attempt_num))\n",
    "plt.grid()\n",
    "plt.savefig(accuracy_graph)"
   ]
  },
  {
   "cell_type": "code",
   "execution_count": 40,
   "id": "f0b369a8",
   "metadata": {},
   "outputs": [
    {
     "data": {
      "image/png": "[encoded data removed]",
      "text/plain": [
       "<Figure size 640x480 with 2 Axes>"
      ]
     },
     "metadata": {},
     "output_type": "display_data"
    }
   ],
   "source": [
    "key_dict = {\"LEFT\":(1.0, 0.0, 0.0),\n",
    "            \"RIGHT\":(0.0, 1.0, 0.0),\n",
    "            \"PASSIVE\": (0.0, 0.0, 1.0)}\n",
    "\n",
    "y_pred = model.predict(X_test)\n",
    "y_pred = np.argmax(y_pred, axis=1)\n",
    "\n",
    "y_test = np.argmax(t_test, axis=1)\n",
    "\n",
    "cm = confusion_matrix(y_test, y_pred, normalize='true')\n",
    "disp = ConfusionMatrixDisplay(confusion_matrix=cm, display_labels=key_dict.keys())\n",
    "plot = disp.plot()\n",
    "#disp.figure_.savefig(conf_matrix)"
   ]
  },
  {
   "cell_type": "code",
   "execution_count": 21,
   "id": "ce7cac46",
   "metadata": {},
   "outputs": [],
   "source": [
    "tf.keras.backend.clear_session()"
   ]
  },
  {
   "cell_type": "markdown",
   "id": "420d24d5",
   "metadata": {},
   "source": [
    "# Model Visualization"
   ]
  },
  {
   "cell_type": "markdown",
   "id": "3414261b",
   "metadata": {},
   "source": [
    "## Input"
   ]
  },
  {
   "cell_type": "code",
   "execution_count": null,
   "id": "fee7c3b0",
   "metadata": {},
   "outputs": [],
   "source": [
    "print(X_test[0].T.shape)\n",
    "plt.imshow(X_test[0].T, interpolation='nearest', aspect='auto')\n",
    "plt.colorbar()"
   ]
  },
  {
   "cell_type": "code",
   "execution_count": null,
   "id": "ee8ce29e",
   "metadata": {},
   "outputs": [],
   "source": [
    "probe = Model(model.input, model.get_layer('Spectral_filter_1').output)\n",
    "output = probe.predict(X_test[:1]).transpose(0, 3, 2, 1)\n",
    "print(output.shape)\n",
    "rows = 1\n",
    "for num, data in enumerate(output[0]):\n",
    "    plt.subplot(rows, int(len(output[0])/rows), num+1)\n",
    "    plt.imshow(data, interpolation='nearest', aspect='auto')\n",
    "    plt.colorbar()"
   ]
  },
  {
   "cell_type": "code",
   "execution_count": null,
   "id": "cf3d3c33",
   "metadata": {},
   "outputs": [],
   "source": [
    "probe = Model(model.input, model.get_layer('Spatial_filter_1').output)\n",
    "output = probe.predict(X_test[:1]).transpose(0, 3, 2, 1)\n",
    "print(output.shape)\n",
    "for num, data in enumerate(output[0]):\n",
    "    plt.subplot(rows, int(len(output[0])/rows), num+1)\n",
    "    plt.imshow(data, interpolation='nearest', aspect='auto')\n",
    "    plt.colorbar()"
   ]
  },
  {
   "cell_type": "code",
   "execution_count": null,
   "id": "43c5f704",
   "metadata": {},
   "outputs": [],
   "source": [
    "probe = Model(model.input, model.get_layer('activation').output)\n",
    "output = probe.predict(X_test[:1]).transpose(0, 3, 2, 1)\n",
    "print(output.shape)\n",
    "for num, data in enumerate(output[0]):\n",
    "    plt.subplot(rows, int(len(output[0])/rows), num+1)\n",
    "    plt.imshow(data, interpolation='nearest', aspect='auto')\n",
    "    plt.colorbar()"
   ]
  },
  {
   "cell_type": "code",
   "execution_count": null,
   "id": "096bfdff",
   "metadata": {
    "scrolled": true
   },
   "outputs": [],
   "source": [
    "probe = Model(model.input, model.get_layer('Spectral_filter_2').output)\n",
    "output = probe.predict(X_test[:1]).transpose(0, 3, 2, 1)\n",
    "print(output.shape)\n",
    "for num, data in enumerate(output[0]):\n",
    "    plt.subplot(1, 2, num%2+1)\n",
    "    plt.imshow(data, interpolation='nearest', aspect='auto')\n",
    "    plt.colorbar()\n",
    "    if num%2:\n",
    "        plt.show()"
   ]
  },
  {
   "cell_type": "code",
   "execution_count": null,
   "id": "f22998ac",
   "metadata": {
    "scrolled": true
   },
   "outputs": [],
   "source": [
    "probe = Model(model.input, model.get_layer('Spectral_filter_3').output)\n",
    "output = probe.predict(X_test[:1]).transpose(0, 3, 2, 1)\n",
    "print(output.shape)\n",
    "for num, data in enumerate(output[0]):\n",
    "    plt.subplot(1, 2, num%2+1)\n",
    "    plt.imshow(data, interpolation='nearest', aspect='auto')\n",
    "    plt.colorbar()\n",
    "    if num%2:\n",
    "        plt.show()"
   ]
  },
  {
   "cell_type": "code",
   "execution_count": null,
   "id": "cc75e855",
   "metadata": {},
   "outputs": [],
   "source": [
    "probe = Model(model.input, model.get_layer('Spectral_filter_4').output)\n",
    "output = probe.predict(X_test[:1]).transpose(0, 3, 2, 1)\n",
    "print(output.shape)\n",
    "for num, data in enumerate(output[0]):\n",
    "    plt.subplot(1, 2, num%2+1)\n",
    "    plt.imshow(data, interpolation='nearest', aspect='auto')\n",
    "    plt.colorbar()\n",
    "    if num%2:\n",
    "        plt.show()"
   ]
  },
  {
   "cell_type": "code",
   "execution_count": null,
   "id": "97356829",
   "metadata": {},
   "outputs": [],
   "source": [
    "probe = Model(model.input, model.get_layer('concatenate').output)\n",
    "output = probe.predict(X_test[:1])\n",
    "print(output.shape)\n",
    "plt.imshow(output[0][0], interpolation='nearest', aspect='auto')\n",
    "plt.colorbar()"
   ]
  },
  {
   "cell_type": "code",
   "execution_count": null,
   "id": "33519e68",
   "metadata": {},
   "outputs": [],
   "source": [
    "probe = Model(model.input, model.get_layer('averag_pooling2d').output)\n",
    "output = probe.predict(X_test[:1])\n",
    "print(output.shape)\n",
    "plt.imshow(output[0][0], interpolation='nearest', aspect='auto')\n",
    "plt.colorbar()"
   ]
  },
  {
   "cell_type": "code",
   "execution_count": null,
   "id": "937e4eae",
   "metadata": {},
   "outputs": [],
   "source": [
    "probe = Model(model.input, model.get_layer('average_pooling2d').output)\n",
    "output = probe.predict(X_test[:1])\n",
    "print(output.shape)\n",
    "plt.imshow(output[0][0], interpolation='nearest', aspect='auto')\n",
    "plt.colorbar()"
   ]
  },
  {
   "cell_type": "code",
   "execution_count": null,
   "id": "56f49bd2",
   "metadata": {},
   "outputs": [],
   "source": [
    "probe = Model(model.input, model.get_layer('dropout').output)\n",
    "output = probe.predict(X_test[:1])\n",
    "print(output.shape)\n",
    "plt.imshow(output[0][0], interpolation='nearest', aspect='auto')\n",
    "plt.colorbar()"
   ]
  },
  {
   "cell_type": "code",
   "execution_count": null,
   "id": "21641007",
   "metadata": {},
   "outputs": [],
   "source": [
    "probe = Model(model.input, model.get_layer('depthwise_conv2d').output)\n",
    "output = probe.predict(X_test[:1])\n",
    "print(output.shape)\n",
    "plt.imshow(output[0][0], interpolation='nearest', aspect='auto')\n",
    "plt.colorbar()"
   ]
  },
  {
   "cell_type": "code",
   "execution_count": null,
   "id": "77d9a2fd",
   "metadata": {},
   "outputs": [],
   "source": [
    "probe = Model(model.input, model.get_layer('depthwise_conv2d_1').output)\n",
    "output = probe.predict(X_test[:1])\n",
    "print(output.shape)\n",
    "plt.imshow(output[0][0], interpolation='nearest', aspect='auto')\n",
    "plt.colorbar()"
   ]
  },
  {
   "cell_type": "code",
   "execution_count": null,
   "id": "90bea5fb",
   "metadata": {},
   "outputs": [],
   "source": [
    "probe = Model(model.input, model.get_layer('add').output)\n",
    "output = probe.predict(X_test[:1])\n",
    "print(output.shape)\n",
    "plt.imshow(output[0][0], interpolation='nearest', aspect='auto')\n",
    "plt.colorbar()"
   ]
  },
  {
   "cell_type": "code",
   "execution_count": null,
   "id": "f81cd6c3",
   "metadata": {},
   "outputs": [],
   "source": [
    "probe = Model(model.input, model.get_layer('add_1').output)\n",
    "output = probe.predict(X_test[:1])\n",
    "print(output.shape)\n",
    "plt.imshow(output[0][0], interpolation='nearest', aspect='auto')\n",
    "plt.colorbar()"
   ]
  },
  {
   "cell_type": "code",
   "execution_count": null,
   "id": "76135501",
   "metadata": {},
   "outputs": [],
   "source": [
    "probe = Model(model.input, model.get_layer('add_2').output)\n",
    "output = probe.predict(X_test[:1])\n",
    "print(output.shape)\n",
    "plt.imshow(output[0][0], interpolation='nearest', aspect='auto')\n",
    "plt.colorbar()"
   ]
  },
  {
   "cell_type": "code",
   "execution_count": null,
   "id": "4b39c6b9",
   "metadata": {},
   "outputs": [],
   "source": [
    "probe = Model(model.input, model.get_layer('add_3').output)\n",
    "output = probe.predict(X_test[:1])\n",
    "print(output.shape)\n",
    "plt.imshow(output[0][0], interpolation='nearest', aspect='auto')\n",
    "plt.colorbar()"
   ]
  },
  {
   "cell_type": "code",
   "execution_count": null,
   "id": "2807eaf6",
   "metadata": {},
   "outputs": [],
   "source": [
    "probe = Model(model.input, model.get_layer('conv2d').output)\n",
    "output = probe.predict(X_test[:1])\n",
    "print(output.shape)\n",
    "plt.imshow(output[0][0], interpolation='nearest', aspect='auto')\n",
    "plt.title(t_test[0])\n",
    "plt.colorbar()"
   ]
  },
  {
   "cell_type": "code",
   "execution_count": null,
   "id": "7765348d",
   "metadata": {},
   "outputs": [],
   "source": [
    "probe = Model(model.input, model.get_layer('dropout_9').output)\n",
    "\n",
    "rows = 3\n",
    "\n",
    "f, axarr = plt.subplots(3, 10)\n",
    "row_counts = [0 for i in range(rows)]\n",
    "\n",
    "for i in range(50):\n",
    "    output = probe.predict(np.array([X_test[i]]))\n",
    "    if t_test[i][0]:\n",
    "        row = 0\n",
    "    elif t_test[i][1]:\n",
    "        row = 1\n",
    "    else:\n",
    "        row = 2\n",
    "    \n",
    "    try:\n",
    "        axarr[row, row_counts[row]].imshow(output[0][0], interpolation='nearest', aspect='auto')\n",
    "        axarr[row, row_counts[row]].axis('off')\n",
    "        axarr[row, row_counts[row]].axis('off')\n",
    "        \n",
    "    except:\n",
    "        pass\n",
    "    row_counts[row] += 1"
   ]
  }
 ],
 "metadata": {
  "kernelspec": {
   "display_name": "Python 3 (ipykernel)",
   "language": "python",
   "name": "python3"
  },
  "language_info": {
   "codemirror_mode": {
    "name": "ipython",
    "version": 3
   },
   "file_extension": ".py",
   "mimetype": "text/x-python",
   "name": "python",
   "nbconvert_exporter": "python",
   "pygments_lexer": "ipython3",
   "version": "3.8.10"
  }
 },
 "nbformat": 4,
 "nbformat_minor": 5
}
