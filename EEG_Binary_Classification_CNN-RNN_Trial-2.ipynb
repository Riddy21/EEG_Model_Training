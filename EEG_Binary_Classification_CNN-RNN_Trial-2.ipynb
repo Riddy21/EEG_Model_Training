{
 "cells": [
  {
   "cell_type": "markdown",
   "id": "e31de1cd",
   "metadata": {},
   "source": [
    "# EEG Wheelchair Binary Classification ML Model\n",
    "## Using 1D Convolutional Networks and Recurrent Networks\n",
    "This is the first experiment with trying to convert 4 channel EEG brain wave data into a binary classification of stop and go for the EEG wheelchair control system.\n",
    "\n",
    "## Overview\n",
    "The following notebook will follow these next steps:\n",
    "1. Data Cleaning\n",
    "    - Get rid of inconsistent samples or bad samples\n",
    "2. Data Preprocessing\n",
    "    - Convert to wavelet transforms and take signal squeezed signals\n",
    "3. Data Filtering\n",
    "    - Filter out irrelevant frequencies and disconnections\n",
    "4. Build Model\n",
    "    - Form CNN-RNN network for prediction modelling\n",
    "5. Model Training\n",
    "    - Train model on training set of EEG Samples\n",
    "6. Hyperparameter Optimization\n",
    "    - Optimize model hyperparameters by cross validation \n",
    "7. Model Validation\n",
    "    - Validate model on test set\n"
   ]
  },
  {
   "cell_type": "markdown",
   "id": "b3308584",
   "metadata": {},
   "source": [
    "# Trial 2\n",
    "## Summary\n",
    "1. Seperate training and testing samples before cutting and shuffling\n",
    "    - We made the mistake first time round to split the training and test data after\n",
    "      cut and shuffle the data.\n",
    "    - This means that each sample has been re-shuffled into the training and test data\n",
    "    - This made predicitons way easier, because all of what was tested was already in\n",
    "      the training data\n",
    "      \n",
    "2. Try model fine tuning\n",
    "    - Because the model is bad at adapting to different people and positions\n",
    "    - Try tuning the model slightly before every sitting or person change\n"
   ]
  },
  {
   "cell_type": "code",
   "execution_count": 1,
   "id": "3e41fea6",
   "metadata": {},
   "outputs": [],
   "source": [
    "# Basic imports\n",
    "from datetime import datetime\n",
    "import numpy as np\n",
    "import glob\n",
    "import os\n",
    "import sys\n",
    "from collections import defaultdict\n",
    "from sklearn.utils import shuffle\n",
    "import random\n",
    "\n",
    "# Data management\n",
    "import pandas as pd\n",
    "\n",
    "# Data processing\n",
    "from ssqueezepy import ssq_cwt\n",
    "\n",
    "# Model training\n",
    "from tensorflow.keras.models import Sequential\n",
    "from tensorflow.keras.layers import Input, TimeDistributed\n",
    "from tensorflow.keras.layers import Dense, Dropout, Activation, Flatten\n",
    "from tensorflow.keras.layers import Conv1D, MaxPooling1D, BatchNormalization\n",
    "from tensorflow.keras.layers import LSTM, GRU\n",
    "from tensorflow.keras.metrics import RootMeanSquaredError\n",
    "import tensorflow as tf\n",
    "import matplotlib.pyplot as plt"
   ]
  },
  {
   "cell_type": "markdown",
   "id": "b92d2b86",
   "metadata": {},
   "source": [
    "## Try test file"
   ]
  },
  {
   "cell_type": "code",
   "execution_count": null,
   "id": "13dc1427",
   "metadata": {},
   "outputs": [],
   "source": [
    "# Read test EEG data from dat directory\n",
    "test_file = pd.read_csv('./datasets/individual_dataset/GO/dk_1673902242.csv', header=None)\n",
    "test_file"
   ]
  },
  {
   "cell_type": "code",
   "execution_count": null,
   "id": "eacf7af2",
   "metadata": {
    "scrolled": false
   },
   "outputs": [],
   "source": [
    "# Try test file\n",
    "\n",
    "# Convert to numpy arrays\n",
    "timestamps, tp9, af7, af8, tp10 = test_file.T.to_numpy()\n",
    "\n",
    "# Get the frequency of the samples \n",
    "start = datetime.strptime(str(timestamps[0]), \"%Y-%m-%d %H:%M:%S.%f\")\n",
    "end = datetime.strptime(str(timestamps[-1]), \"%Y-%m-%d %H:%M:%S.%f\")\n",
    "duration = (end-start).total_seconds()\n",
    "fs = timestamps.size/duration\n",
    "\n",
    "Twtp9, Wtp9, *_ = ssq_cwt(tp9, fs=fs)\n",
    "fig = plt.figure(figsize=(20, 20))\n",
    "fig.add_subplot(3, 1, 2)\n",
    "plt.imshow(np.abs(Twtp9), aspect='auto', cmap='turbo')\n",
    "fig.add_subplot(3, 1, 1)\n",
    "plt.imshow(np.abs(Wtp9), aspect='auto', cmap='turbo')\n",
    "plt.show()\n"
   ]
  },
  {
   "cell_type": "markdown",
   "id": "31cb0e2b",
   "metadata": {},
   "source": [
    "## Importing Data"
   ]
  },
  {
   "cell_type": "code",
   "execution_count": 3,
   "id": "0048c9bb",
   "metadata": {},
   "outputs": [
    {
     "name": "stdout",
     "output_type": "stream",
     "text": [
      "33\n",
      "6\n",
      "9\n",
      "33\n",
      "9\n",
      "9\n",
      "33\n",
      "2\n",
      "9\n"
     ]
    }
   ],
   "source": [
    "# Pull all training files data\n",
    "\n",
    "# ENTER FILE EXTS HERE\n",
    "data_path = './datasets/individual_dataset/'\n",
    "train_name = 'dk1'\n",
    "test_name = 'dk1_test'\n",
    "val_name = 'dk'\n",
    "\n",
    "train_files = defaultdict(list)\n",
    "test_files = defaultdict(list)\n",
    "val_files = defaultdict(list)\n",
    "file_types = (\"GO\", \"REST\", \"STOP\")\n",
    "\n",
    "num_train_files = 1000\n",
    "#num_test_files = 1000\n",
    "num_val_files = 1000\n",
    "\n",
    "# Get even amounts of all files\n",
    "for file_type in file_types:\n",
    "    fileglob = os.path.join(data_path, file_type, '%s_1*.csv' % train_name)\n",
    "    num_train_files = min(num_train_files, len(glob.glob(fileglob)))\n",
    "    fileglob = os.path.join(data_path, file_type, '%s_1*.csv' % test_name)\n",
    "    #num_test_files = min(num_test_files, len(glob.glob(fileglob)))\n",
    "    fileglob = os.path.join(data_path, file_type, '%s_1*.csv' % val_name)\n",
    "    num_val_files = min(num_val_files, len(glob.glob(fileglob)))\n",
    "    \n",
    "for file_type in file_types:\n",
    "    fileglob = os.path.join(data_path, file_type, '%s_1*.csv' % train_name)\n",
    "    \n",
    "    for i, file in enumerate(shuffle(glob.glob(fileglob))):\n",
    "        if i == num_train_files:\n",
    "            break\n",
    "        train_files[file_type].append(pd.read_csv(file, header=None))\n",
    "\n",
    "    print(len(train_files[file_type]))\n",
    "    \n",
    "    fileglob = os.path.join(data_path, file_type, '%s_1*.csv' % test_name)\n",
    "    \n",
    "    for i, file in enumerate(shuffle(glob.glob(fileglob))):\n",
    "        #if i == num_test_files:\n",
    "        #    break\n",
    "        test_files[file_type].append(pd.read_csv(file, header=None))\n",
    "\n",
    "    print(len(test_files[file_type]))\n",
    "    \n",
    "    fileglob = os.path.join(data_path, file_type, '%s_1*.csv' % val_name)\n",
    "    \n",
    "    for i, file in enumerate(shuffle(glob.glob(fileglob))):\n",
    "        if i == num_val_files:\n",
    "            break\n",
    "        val_files[file_type].append(pd.read_csv(file, header=None))\n",
    "\n",
    "    print(len(val_files[file_type]))"
   ]
  },
  {
   "cell_type": "markdown",
   "id": "8ac7e119",
   "metadata": {},
   "source": [
    "## Convert to wavelet transform signal squeezed"
   ]
  },
  {
   "cell_type": "code",
   "execution_count": 4,
   "id": "bbab74cf",
   "metadata": {},
   "outputs": [],
   "source": [
    "def ts_to_ssq(timeseries):\n",
    "    \"\"\"\n",
    "    Converts 4 channel time series data to ssq wavelet transform\n",
    "    \"\"\"\n",
    "    timestamps, tp9, af7, af8, tp10 = timeseries\n",
    "    \n",
    "    # Get the frequency of the samples \n",
    "    start = datetime.strptime(str(timestamps[0]), \"%Y-%m-%d %H:%M:%S.%f\")\n",
    "    end = datetime.strptime(str(timestamps[-1]), \"%Y-%m-%d %H:%M:%S.%f\")\n",
    "    duration = (end-start).total_seconds()\n",
    "    fs = timestamps.size/duration\n",
    "    \n",
    "    Twtp9, _, *_ = ssq_cwt(tp9, fs=fs)\n",
    "    Twtp10, _, *_ = ssq_cwt(tp10, fs=fs)\n",
    "    Twaf7, _, *_ = ssq_cwt(af7, fs=fs)\n",
    "    Twaf8, _, *_ = ssq_cwt(af8, fs=fs)\n",
    "    \n",
    "    return np.array((Twtp9, Twaf7, Twaf8, Twtp10))"
   ]
  },
  {
   "cell_type": "code",
   "execution_count": 25,
   "id": "e8fc6b5d",
   "metadata": {},
   "outputs": [],
   "source": [
    "original_sample_size = 3000\n",
    "buffer_sample_size = 500\n",
    "training_sample_size = 25\n",
    "\n",
    "key_dict = {\"STOP\":(0.0, 0.0, 1.0),\n",
    "            \"GO\":(0.0, 1.0, 0.0),\n",
    "            \"REST\": (1.0, 0.0, 0.0)}\n",
    "\n",
    "def compile_files(files, file_type):\n",
    "    X = []\n",
    "    t = []\n",
    "    \n",
    "    num_files = sum([len(x) for x in files.values()])\n",
    "    \n",
    "    for key, data in files.items():\n",
    "        for recording in data:\n",
    "            # if file is smaller than 3000 samples, don't use it\n",
    "            if len(recording[0]) < original_sample_size:\n",
    "                continue\n",
    "\n",
    "            # Split file into buffer size samples\n",
    "            time_samples = np.split(recording.head(original_sample_size).T.to_numpy(),\n",
    "                                         int(original_sample_size/buffer_sample_size), axis=1)\n",
    "\n",
    "            for time_sample in time_samples:\n",
    "                # Convert to numpy arrays\n",
    "                ssq_data = ts_to_ssq(time_sample)\n",
    "\n",
    "                # Take the magnitude of the wavelet transform only\n",
    "                ssq_data = np.abs(ssq_data)\n",
    "\n",
    "                # Must transpose data to (frame, height, channel) for training\n",
    "                ssq_data = ssq_data.transpose(2,1,0)\n",
    "\n",
    "                # Split sample into many blocks\n",
    "                wavelet_samples = np.split(ssq_data, int(buffer_sample_size/training_sample_size))\n",
    "\n",
    "                X.extend(wavelet_samples)\n",
    "                t.extend([key_dict[key] for i in range(len(wavelet_samples))])\n",
    "                \n",
    "            \n",
    "            print(\"%d %s files left to convert \" % (num_files, file_type), end=\"\\r\")\n",
    "            num_files -= 1\n",
    "                \n",
    "    return np.array(X), np.array(t)"
   ]
  },
  {
   "cell_type": "code",
   "execution_count": 26,
   "id": "c27cea15",
   "metadata": {},
   "outputs": [
    {
     "name": "stdout",
     "output_type": "stream",
     "text": [
      "2 testing files left to convert  t  \r"
     ]
    }
   ],
   "source": [
    "# Compile all files into train data\n",
    "X_train, t_train = compile_files(train_files, 'train')\n",
    "\n",
    "X_test, t_test = compile_files(test_files, 'val')\n",
    "\n",
    "X_val, t_val = compile_files(val_files, 'test')"
   ]
  },
  {
   "cell_type": "code",
   "execution_count": 27,
   "id": "27f695b3",
   "metadata": {
    "scrolled": false
   },
   "outputs": [
    {
     "name": "stdout",
     "output_type": "stream",
     "text": [
      "Training data\n",
      "(11760, 25, 229, 4)\n",
      "(11760, 3)\n",
      "Testing data\n",
      "(2040, 25, 229, 4)\n",
      "(2040, 3)\n",
      "Validation data\n",
      "(3120, 25, 229, 4)\n",
      "(3120, 3)\n"
     ]
    }
   ],
   "source": [
    "print(\"Training data\")\n",
    "print(X_train.shape)\n",
    "print(t_train.shape)\n",
    "print(\"Testing data\")\n",
    "print(X_test.shape)\n",
    "print(t_test.shape)\n",
    "print(\"Validation data\")\n",
    "print(X_val.shape)\n",
    "print(t_val.shape)"
   ]
  },
  {
   "cell_type": "code",
   "execution_count": null,
   "id": "ef006cf3",
   "metadata": {},
   "outputs": [],
   "source": [
    "# Save the ssq data\n",
    "if os.path.isdir('processed_data'):\n",
    "    os.remove('processed_data/examples.npy')\n",
    "    os.remove('processed_data/targets.npy')\n",
    "else:\n",
    "    os.mkdir('processed_data')\n",
    "np.save('processed_data/examples.npy', X)\n",
    "np.save('processed_data/targets.npy', t)"
   ]
  },
  {
   "cell_type": "markdown",
   "id": "1a794b1a",
   "metadata": {},
   "source": [
    "## *Shortcut: Load Preprocessed Saved Data*"
   ]
  },
  {
   "cell_type": "code",
   "execution_count": null,
   "id": "7799e6bf",
   "metadata": {},
   "outputs": [],
   "source": [
    "# Load ssq data\n",
    "X = np.load('processed_data/examples.npy')\n",
    "t = np.load('processed_data/targets.npy')"
   ]
  },
  {
   "cell_type": "markdown",
   "id": "3b0b83e2",
   "metadata": {},
   "source": [
    "## Shuffle data"
   ]
  },
  {
   "cell_type": "code",
   "execution_count": 28,
   "id": "9a39d91a",
   "metadata": {},
   "outputs": [],
   "source": [
    "# Shuffle the data\n",
    "X_train, t_train = shuffle(X_train, t_train)\n",
    "X_test, t_test = shuffle(X_test, t_test)\n",
    "X_val, t_val = shuffle(X_val, t_val)\n",
    "\n"
   ]
  },
  {
   "cell_type": "code",
   "execution_count": 29,
   "id": "76cc08ca",
   "metadata": {},
   "outputs": [
    {
     "data": {
      "text/plain": [
       "(11760, 25, 229, 4)"
      ]
     },
     "execution_count": 29,
     "metadata": {},
     "output_type": "execute_result"
    }
   ],
   "source": [
    "X_train.shape"
   ]
  },
  {
   "cell_type": "code",
   "execution_count": 31,
   "id": "8f6ffeba",
   "metadata": {},
   "outputs": [
    {
     "data": {
      "text/plain": [
       "(11760, 3)"
      ]
     },
     "execution_count": 31,
     "metadata": {},
     "output_type": "execute_result"
    }
   ],
   "source": [
    "t_train.shape"
   ]
  },
  {
   "cell_type": "markdown",
   "id": "6645adbf",
   "metadata": {},
   "source": [
    "## Train Model"
   ]
  },
  {
   "cell_type": "markdown",
   "id": "09fe94b3",
   "metadata": {},
   "source": [
    "## 1st attempt\n",
    "- Unique Validation split\n",
    "- batch size : 5\n",
    "- epochs : 15\n",
    "- 4 channel input -> 4 to 1 channel time distributed CNN -> GRU RNN -> Dense layers (leaky relu) -> Dense Layers (softmax)\n",
    "- loss function = categorical cross entropy\n",
    "- 500 frame samples before running ssq\n",
    "\n",
    "### Changes made\n",
    "- Using different files for validation and testing than training\n",
    "- Same person's data\n",
    "\n",
    "### Expected results\n",
    "- Hopefully some correlation between training accuracy and val accuracy\n",
    "- Probably need more training data\n",
    "- Might need smaller sample size for more training data\n",
    "\n",
    "### Issues noticed\n",
    "    \n"
   ]
  },
  {
   "cell_type": "code",
   "execution_count": 32,
   "id": "e312d4df",
   "metadata": {},
   "outputs": [
    {
     "name": "stderr",
     "output_type": "stream",
     "text": [
      "2023-02-02 21:55:40.867122: I tensorflow/stream_executor/platform/default/dso_loader.cc:44] Successfully opened dynamic library libcuda.so.1\n",
      "2023-02-02 21:55:40.944959: I tensorflow/core/common_runtime/gpu/gpu_device.cc:1561] Found device 0 with properties: \n",
      "pciBusID: 0000:21:00.0 name: Tesla K20Xm computeCapability: 3.5\n",
      "coreClock: 0.732GHz coreCount: 14 deviceMemorySize: 5.57GiB deviceMemoryBandwidth: 232.46GiB/s\n",
      "2023-02-02 21:55:40.945439: I tensorflow/stream_executor/platform/default/dso_loader.cc:44] Successfully opened dynamic library libcudart.so.10.1\n",
      "2023-02-02 21:55:40.949202: I tensorflow/stream_executor/platform/default/dso_loader.cc:44] Successfully opened dynamic library libcublas.so.10\n",
      "2023-02-02 21:55:40.952372: I tensorflow/stream_executor/platform/default/dso_loader.cc:44] Successfully opened dynamic library libcufft.so.10\n",
      "2023-02-02 21:55:40.953061: I tensorflow/stream_executor/platform/default/dso_loader.cc:44] Successfully opened dynamic library libcurand.so.10\n",
      "2023-02-02 21:55:40.956968: I tensorflow/stream_executor/platform/default/dso_loader.cc:44] Successfully opened dynamic library libcusolver.so.10\n",
      "2023-02-02 21:55:40.958720: I tensorflow/stream_executor/platform/default/dso_loader.cc:44] Successfully opened dynamic library libcusparse.so.10\n",
      "2023-02-02 21:55:40.964758: I tensorflow/stream_executor/platform/default/dso_loader.cc:44] Successfully opened dynamic library libcudnn.so.7\n",
      "2023-02-02 21:55:40.966224: I tensorflow/core/common_runtime/gpu/gpu_device.cc:1703] Adding visible gpu devices: 0\n",
      "2023-02-02 21:55:40.982428: I tensorflow/core/platform/profile_utils/cpu_utils.cc:102] CPU Frequency: 2294460000 Hz\n",
      "2023-02-02 21:55:40.984152: I tensorflow/compiler/xla/service/service.cc:168] XLA service 0x7efee8000b60 initialized for platform Host (this does not guarantee that XLA will be used). Devices:\n",
      "2023-02-02 21:55:40.984182: I tensorflow/compiler/xla/service/service.cc:176]   StreamExecutor device (0): Host, Default Version\n",
      "2023-02-02 21:55:41.148329: I tensorflow/compiler/xla/service/service.cc:168] XLA service 0x53f2610 initialized for platform CUDA (this does not guarantee that XLA will be used). Devices:\n",
      "2023-02-02 21:55:41.148400: I tensorflow/compiler/xla/service/service.cc:176]   StreamExecutor device (0): Tesla K20Xm, Compute Capability 3.5\n",
      "2023-02-02 21:55:41.149952: I tensorflow/core/common_runtime/gpu/gpu_device.cc:1561] Found device 0 with properties: \n",
      "pciBusID: 0000:21:00.0 name: Tesla K20Xm computeCapability: 3.5\n",
      "coreClock: 0.732GHz coreCount: 14 deviceMemorySize: 5.57GiB deviceMemoryBandwidth: 232.46GiB/s\n",
      "2023-02-02 21:55:41.150105: I tensorflow/stream_executor/platform/default/dso_loader.cc:44] Successfully opened dynamic library libcudart.so.10.1\n",
      "2023-02-02 21:55:41.150178: I tensorflow/stream_executor/platform/default/dso_loader.cc:44] Successfully opened dynamic library libcublas.so.10\n",
      "2023-02-02 21:55:41.150247: I tensorflow/stream_executor/platform/default/dso_loader.cc:44] Successfully opened dynamic library libcufft.so.10\n",
      "2023-02-02 21:55:41.150315: I tensorflow/stream_executor/platform/default/dso_loader.cc:44] Successfully opened dynamic library libcurand.so.10\n",
      "2023-02-02 21:55:41.150383: I tensorflow/stream_executor/platform/default/dso_loader.cc:44] Successfully opened dynamic library libcusolver.so.10\n",
      "2023-02-02 21:55:41.150476: I tensorflow/stream_executor/platform/default/dso_loader.cc:44] Successfully opened dynamic library libcusparse.so.10\n",
      "2023-02-02 21:55:41.150548: I tensorflow/stream_executor/platform/default/dso_loader.cc:44] Successfully opened dynamic library libcudnn.so.7\n",
      "2023-02-02 21:55:41.152789: I tensorflow/core/common_runtime/gpu/gpu_device.cc:1703] Adding visible gpu devices: 0\n",
      "2023-02-02 21:55:41.152917: I tensorflow/stream_executor/platform/default/dso_loader.cc:44] Successfully opened dynamic library libcudart.so.10.1\n",
      "2023-02-02 21:55:41.154370: I tensorflow/core/common_runtime/gpu/gpu_device.cc:1102] Device interconnect StreamExecutor with strength 1 edge matrix:\n",
      "2023-02-02 21:55:41.154407: I tensorflow/core/common_runtime/gpu/gpu_device.cc:1108]      0 \n",
      "2023-02-02 21:55:41.154427: I tensorflow/core/common_runtime/gpu/gpu_device.cc:1121] 0:   N \n",
      "2023-02-02 21:55:41.156899: I tensorflow/core/common_runtime/gpu/gpu_device.cc:1247] Created TensorFlow device (/job:localhost/replica:0/task:0/device:GPU:0 with 5300 MB memory) -> physical GPU (device: 0, name: Tesla K20Xm, pci bus id: 0000:21:00.0, compute capability: 3.5)\n",
      "Layer gru will not use cuDNN kernel since it doesn't meet the cuDNN kernel criteria. It will use generic GPU kernel as fallback when running on GPU\n"
     ]
    }
   ],
   "source": [
    "# Declare a sequential model\n",
    "model = Sequential()\n",
    "\n",
    "# Declare input shape of\n",
    "model.add(Input(shape=X_train[0].shape)) # shape = frames, height, channels\n",
    "\n",
    "# First add Convolution and Pooling layers\n",
    "model.add(TimeDistributed(Conv1D(253, (3))))\n",
    "model.add(TimeDistributed(Activation('relu')))\n",
    "\n",
    "model.add(TimeDistributed(Conv1D(253, (2))))\n",
    "model.add(TimeDistributed(Activation('relu')))\n",
    "model.add(TimeDistributed(MaxPooling1D(pool_size=(2))))\n",
    "\n",
    "# Flatten to prepare for Recurrent network\n",
    "model.add(TimeDistributed(Flatten()))\n",
    "\n",
    "# Recurrent layers connect to each of the time steps\n",
    "model.add(GRU(128, activation='relu', return_sequences=False))\n",
    "model.add(Dropout(0.2))\n",
    "model.add(Dense(128, activation='relu'))\n",
    "model.add(Dense(64, activation='relu')\n",
    "         )\n",
    "model.add(Dropout(0.4))\n",
    "model.add(Dense(48, activation='relu'))\n",
    "model.add(Dropout(0.4))\n",
    "\n",
    "# Output is 3, REST, GO, STOP likelihood\n",
    "model.add(Dense(3, activation='softmax'))"
   ]
  },
  {
   "cell_type": "code",
   "execution_count": 33,
   "id": "f493cf16",
   "metadata": {},
   "outputs": [],
   "source": [
    "model.compile(optimizer='adam', loss='categorical_crossentropy', metrics=['accuracy'])"
   ]
  },
  {
   "cell_type": "code",
   "execution_count": 34,
   "id": "a1f605c8",
   "metadata": {
    "scrolled": true
   },
   "outputs": [
    {
     "name": "stdout",
     "output_type": "stream",
     "text": [
      "Model: \"sequential\"\n",
      "_________________________________________________________________\n",
      "Layer (type)                 Output Shape              Param #   \n",
      "=================================================================\n",
      "time_distributed (TimeDistri (None, 25, 227, 253)      3289      \n",
      "_________________________________________________________________\n",
      "time_distributed_1 (TimeDist (None, 25, 227, 253)      0         \n",
      "_________________________________________________________________\n",
      "time_distributed_2 (TimeDist (None, 25, 226, 253)      128271    \n",
      "_________________________________________________________________\n",
      "time_distributed_3 (TimeDist (None, 25, 226, 253)      0         \n",
      "_________________________________________________________________\n",
      "time_distributed_4 (TimeDist (None, 25, 113, 253)      0         \n",
      "_________________________________________________________________\n",
      "time_distributed_5 (TimeDist (None, 25, 28589)         0         \n",
      "_________________________________________________________________\n",
      "gru (GRU)                    (None, 128)               11028096  \n",
      "_________________________________________________________________\n",
      "dropout (Dropout)            (None, 128)               0         \n",
      "_________________________________________________________________\n",
      "dense (Dense)                (None, 128)               16512     \n",
      "_________________________________________________________________\n",
      "dense_1 (Dense)              (None, 64)                8256      \n",
      "_________________________________________________________________\n",
      "dropout_1 (Dropout)          (None, 64)                0         \n",
      "_________________________________________________________________\n",
      "dense_2 (Dense)              (None, 48)                3120      \n",
      "_________________________________________________________________\n",
      "dropout_2 (Dropout)          (None, 48)                0         \n",
      "_________________________________________________________________\n",
      "dense_3 (Dense)              (None, 3)                 147       \n",
      "=================================================================\n",
      "Total params: 11,187,691\n",
      "Trainable params: 11,187,691\n",
      "Non-trainable params: 0\n",
      "_________________________________________________________________\n"
     ]
    }
   ],
   "source": [
    "model.summary()"
   ]
  },
  {
   "cell_type": "code",
   "execution_count": null,
   "id": "ac2d356a",
   "metadata": {},
   "outputs": [],
   "source": [
    "model.get_weights()"
   ]
  },
  {
   "cell_type": "code",
   "execution_count": 35,
   "id": "c544ba26",
   "metadata": {
    "scrolled": false
   },
   "outputs": [
    {
     "name": "stderr",
     "output_type": "stream",
     "text": [
      "2023-02-02 21:57:51.768965: I tensorflow/stream_executor/platform/default/dso_loader.cc:44] Successfully opened dynamic library libcublas.so.10\n",
      "2023-02-02 21:57:51.929285: I tensorflow/stream_executor/platform/default/dso_loader.cc:44] Successfully opened dynamic library libcudnn.so.7\n"
     ]
    }
   ],
   "source": [
    "stdout = sys.stdout\n",
    "f = open(\"results/trial2/attempt1.txt\", 'w')\n",
    "sys.stdout = f\n",
    "results = model.fit(X_train, t_train, validation_data=(X_val, t_val), batch_size=5, epochs=15)\n",
    "sys.stdout = stdout\n",
    "f.close()"
   ]
  },
  {
   "cell_type": "code",
   "execution_count": 36,
   "id": "d2fa9522",
   "metadata": {
    "scrolled": true
   },
   "outputs": [
    {
     "name": "stdout",
     "output_type": "stream",
     "text": [
      "64/64 [==============================] - 6s 99ms/step - loss: 2.9841 - accuracy: 0.5858\n"
     ]
    }
   ],
   "source": [
    "test_results = model.evaluate(X_test, t_test)"
   ]
  },
  {
   "cell_type": "code",
   "execution_count": 40,
   "id": "d1eb4994",
   "metadata": {
    "scrolled": true
   },
   "outputs": [
    {
     "data": {
      "text/plain": [
       "array([[1.0000000e+00, 1.5646729e-09, 1.0208837e-10],\n",
       "       [1.9230423e-05, 9.9937409e-01, 6.0670241e-04],\n",
       "       [2.8931150e-02, 7.6966459e-01, 2.0140427e-01],\n",
       "       [3.1096356e-02, 2.1779172e-01, 7.5111192e-01],\n",
       "       [1.6252114e-05, 9.9872953e-01, 1.2541785e-03],\n",
       "       [9.9632572e-03, 8.9626610e-02, 9.0041012e-01],\n",
       "       [1.0699883e-02, 7.3641814e-02, 9.1565835e-01],\n",
       "       [5.8063496e-02, 3.4277478e-01, 5.9916174e-01],\n",
       "       [9.9999964e-01, 3.5829615e-07, 2.6361855e-08],\n",
       "       [9.8202378e-04, 9.9126059e-01, 7.7574286e-03]], dtype=float32)"
      ]
     },
     "execution_count": 40,
     "metadata": {},
     "output_type": "execute_result"
    }
   ],
   "source": [
    "model.predict(X_test[100:110])"
   ]
  },
  {
   "cell_type": "code",
   "execution_count": 39,
   "id": "19e6666c",
   "metadata": {
    "scrolled": false
   },
   "outputs": [
    {
     "data": {
      "text/plain": [
       "array([[1., 0., 0.],\n",
       "       [0., 1., 0.],\n",
       "       [0., 1., 0.],\n",
       "       [1., 0., 0.],\n",
       "       [0., 0., 1.],\n",
       "       [1., 0., 0.],\n",
       "       [0., 1., 0.],\n",
       "       [1., 0., 0.],\n",
       "       [1., 0., 0.],\n",
       "       [0., 1., 0.]])"
      ]
     },
     "execution_count": 39,
     "metadata": {},
     "output_type": "execute_result"
    }
   ],
   "source": [
    "t_test[100:110]"
   ]
  },
  {
   "cell_type": "code",
   "execution_count": 41,
   "id": "04ac6764",
   "metadata": {},
   "outputs": [],
   "source": [
    "# To save the model\n",
    "model.save('models/trial2/attempt1_500.h5')"
   ]
  },
  {
   "cell_type": "code",
   "execution_count": 42,
   "id": "d918cf37",
   "metadata": {
    "scrolled": false
   },
   "outputs": [
    {
     "data": {
      "image/png": "[encoded data removed]",
      "text/plain": [
       "<Figure size 640x480 with 1 Axes>"
      ]
     },
     "metadata": {},
     "output_type": "display_data"
    }
   ],
   "source": [
    "plt.plot(results.history['loss'])\n",
    "plt.plot(results.history['val_loss'])\n",
    "plt.plot([test_results[0] for i in range(len(results.history['loss']))])\n",
    "plt.legend(('training loss', 'validation loss', 'test loss'))\n",
    "plt.xlabel(\"Epoch\")\n",
    "plt.ylabel(\"Loss\")\n",
    "plt.grid()\n",
    "plt.savefig('results/trial2/attempt1_loss.png')"
   ]
  },
  {
   "cell_type": "code",
   "execution_count": 43,
   "id": "48bdf3cf",
   "metadata": {
    "scrolled": true
   },
   "outputs": [
    {
     "data": {
      "image/png": "[encoded data removed]",
      "text/plain": [
       "<Figure size 640x480 with 1 Axes>"
      ]
     },
     "metadata": {},
     "output_type": "display_data"
    }
   ],
   "source": [
    "plt.plot(results.history['accuracy'])\n",
    "plt.plot(results.history['val_accuracy'])\n",
    "plt.plot([test_results[1] for i in range(len(results.history['accuracy']))])\n",
    "plt.legend(('training accuracy', 'validation accuracy', 'test accuracy'))\n",
    "plt.xlabel(\"Epoch\")\n",
    "plt.ylabel(\"Accuracy\")\n",
    "plt.grid()\n",
    "plt.savefig('results/trial2/attempt1_accuracy.png')"
   ]
  },
  {
   "cell_type": "markdown",
   "id": "9c276ee7",
   "metadata": {},
   "source": [
    "## 2nd attempt\n",
    "- Unique Validation split\n",
    "- batch size : 5\n",
    "- epochs : 30\n",
    "- 4 channel input -> 4 to 1 channel time distributed CNN -> GRU RNN -> Dense layers (leaky relu) -> Dense Layers (softmax)\n",
    "- loss function = categorical cross entropy\n",
    "- 500 frame samples before running ssq\n",
    "\n",
    "### Changes made\n",
    "- Try with more data, reduced sample size to create more data\n",
    "- Do more recordings of my own data, with taking off the headset halfway through\n",
    "\n",
    "### Expected results\n",
    "\n",
    "### Issues noticed\n",
    "    \n"
   ]
  }
 ],
 "metadata": {
  "kernelspec": {
   "display_name": "Python 3 (ipykernel)",
   "language": "python",
   "name": "python3"
  },
  "language_info": {
   "codemirror_mode": {
    "name": "ipython",
    "version": 3
   },
   "file_extension": ".py",
   "mimetype": "text/x-python",
   "name": "python",
   "nbconvert_exporter": "python",
   "pygments_lexer": "ipython3",
   "version": "3.8.10"
  }
 },
 "nbformat": 4,
 "nbformat_minor": 5
}
