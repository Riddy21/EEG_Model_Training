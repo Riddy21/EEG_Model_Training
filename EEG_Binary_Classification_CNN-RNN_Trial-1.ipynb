{
 "cells": [
  {
   "cell_type": "markdown",
   "id": "e31de1cd",
   "metadata": {},
   "source": [
    "# EEG Wheelchair Binary Classification ML Model\n",
    "## Using 1D Convolutional Networks and Recurrent Networks\n",
    "This is the first experiment with trying to convert 4 channel EEG brain wave data into a binary classification of stop and go for the EEG wheelchair control system.\n",
    "\n",
    "## Overview\n",
    "The following notebook will follow these next steps:\n",
    "1. Data Cleaning\n",
    "    - Get rid of inconsistent samples or bad samples\n",
    "2. Data Preprocessing\n",
    "    - Convert to wavelet transforms and take signal squeezed signals\n",
    "3. Data Filtering\n",
    "    - Filter out irrelevant frequencies and disconnections\n",
    "4. Build Model\n",
    "    - Form CNN-RNN network for prediction modelling\n",
    "5. Model Training\n",
    "    - Train model on training set of EEG Samples\n",
    "6. Hyperparameter Optimization\n",
    "    - Optimize model hyperparameters by cross validation \n",
    "7. Model Validation\n",
    "    - Validate model on test set\n"
   ]
  },
  {
   "cell_type": "markdown",
   "id": "f7e1c135",
   "metadata": {},
   "source": [
    "![overview diagram](docs/model_overview_diagram.jpg)\n",
    "![recurrent diagram](docs/recurrent_model_diagram.png)\n",
    "![conv_diagram](docs/conv_model_diagram.png)"
   ]
  },
  {
   "cell_type": "code",
   "execution_count": 2,
   "id": "3e41fea6",
   "metadata": {},
   "outputs": [
    {
     "name": "stderr",
     "output_type": "stream",
     "text": [
      "2023-01-25 16:34:57.718391: I tensorflow/core/platform/cpu_feature_guard.cc:193] This TensorFlow binary is optimized with oneAPI Deep Neural Network Library (oneDNN) to use the following CPU instructions in performance-critical operations:  AVX2 FMA\n",
      "To enable them in other operations, rebuild TensorFlow with the appropriate compiler flags.\n"
     ]
    }
   ],
   "source": [
    "# Data management\n",
    "import pandas as pd\n",
    "\n",
    "# Data processing\n",
    "from ssqueezepy import ssq_cwt\n",
    "\n",
    "# Model training\n",
    "from tensorflow.keras.models import Sequential\n",
    "from tensorflow.keras.layers import Dense, Dropout, Activation, Flatten\n",
    "from tensorflow.keras.layers import Conv1D, MaxPooling1D, BatchNormalization\n",
    "from tensorflow.keras.layers import LSTM\n",
    "import matplotlib.pyplot as plt\n",
    "\n"
   ]
  },
  {
   "cell_type": "markdown",
   "id": "7cbc44a9",
   "metadata": {},
   "source": [
    "## Importing Data"
   ]
  },
  {
   "cell_type": "code",
   "execution_count": 23,
   "id": "13dc1427",
   "metadata": {},
   "outputs": [
    {
     "data": {
      "text/html": [
       "<div>\n",
       "<style scoped>\n",
       "    .dataframe tbody tr th:only-of-type {\n",
       "        vertical-align: middle;\n",
       "    }\n",
       "\n",
       "    .dataframe tbody tr th {\n",
       "        vertical-align: top;\n",
       "    }\n",
       "\n",
       "    .dataframe thead th {\n",
       "        text-align: right;\n",
       "    }\n",
       "</style>\n",
       "<table border=\"1\" class=\"dataframe\">\n",
       "  <thead>\n",
       "    <tr style=\"text-align: right;\">\n",
       "      <th></th>\n",
       "      <th>0</th>\n",
       "      <th>1</th>\n",
       "      <th>2</th>\n",
       "      <th>3</th>\n",
       "      <th>4</th>\n",
       "    </tr>\n",
       "  </thead>\n",
       "  <tbody>\n",
       "    <tr>\n",
       "      <th>0</th>\n",
       "      <td>2023-01-11 17:25:39.613477</td>\n",
       "      <td>830.715088</td>\n",
       "      <td>837.294983</td>\n",
       "      <td>847.164856</td>\n",
       "      <td>834.005005</td>\n",
       "    </tr>\n",
       "    <tr>\n",
       "      <th>1</th>\n",
       "      <td>2023-01-11 17:25:39.615483</td>\n",
       "      <td>832.360046</td>\n",
       "      <td>858.679749</td>\n",
       "      <td>848.809875</td>\n",
       "      <td>825.780151</td>\n",
       "    </tr>\n",
       "    <tr>\n",
       "      <th>2</th>\n",
       "      <td>2023-01-11 17:25:39.615483</td>\n",
       "      <td>824.135132</td>\n",
       "      <td>847.164856</td>\n",
       "      <td>848.809875</td>\n",
       "      <td>832.360046</td>\n",
       "    </tr>\n",
       "    <tr>\n",
       "      <th>3</th>\n",
       "      <td>2023-01-11 17:25:39.615483</td>\n",
       "      <td>837.294983</td>\n",
       "      <td>848.809875</td>\n",
       "      <td>843.874939</td>\n",
       "      <td>840.584961</td>\n",
       "    </tr>\n",
       "    <tr>\n",
       "      <th>4</th>\n",
       "      <td>2023-01-11 17:25:39.615483</td>\n",
       "      <td>847.164856</td>\n",
       "      <td>853.744812</td>\n",
       "      <td>838.940002</td>\n",
       "      <td>834.005005</td>\n",
       "    </tr>\n",
       "    <tr>\n",
       "      <th>...</th>\n",
       "      <td>...</td>\n",
       "      <td>...</td>\n",
       "      <td>...</td>\n",
       "      <td>...</td>\n",
       "      <td>...</td>\n",
       "    </tr>\n",
       "    <tr>\n",
       "      <th>3108</th>\n",
       "      <td>2023-01-11 17:25:53.663147</td>\n",
       "      <td>852.099792</td>\n",
       "      <td>861.969727</td>\n",
       "      <td>861.969727</td>\n",
       "      <td>840.584961</td>\n",
       "    </tr>\n",
       "    <tr>\n",
       "      <th>3109</th>\n",
       "      <td>2023-01-11 17:25:53.663147</td>\n",
       "      <td>834.005005</td>\n",
       "      <td>845.519897</td>\n",
       "      <td>840.584961</td>\n",
       "      <td>837.294983</td>\n",
       "    </tr>\n",
       "    <tr>\n",
       "      <th>3110</th>\n",
       "      <td>2023-01-11 17:25:53.663147</td>\n",
       "      <td>847.164856</td>\n",
       "      <td>845.519897</td>\n",
       "      <td>835.650024</td>\n",
       "      <td>838.940002</td>\n",
       "    </tr>\n",
       "    <tr>\n",
       "      <th>3111</th>\n",
       "      <td>2023-01-11 17:25:53.664149</td>\n",
       "      <td>837.294983</td>\n",
       "      <td>850.454834</td>\n",
       "      <td>842.229919</td>\n",
       "      <td>830.715088</td>\n",
       "    </tr>\n",
       "    <tr>\n",
       "      <th>3112</th>\n",
       "      <td>2023-01-11 17:25:53.724123</td>\n",
       "      <td>820.845215</td>\n",
       "      <td>848.809875</td>\n",
       "      <td>842.229919</td>\n",
       "      <td>834.005005</td>\n",
       "    </tr>\n",
       "  </tbody>\n",
       "</table>\n",
       "<p>3113 rows × 5 columns</p>\n",
       "</div>"
      ],
      "text/plain": [
       "                               0           1           2           3  \\\n",
       "0     2023-01-11 17:25:39.613477  830.715088  837.294983  847.164856   \n",
       "1     2023-01-11 17:25:39.615483  832.360046  858.679749  848.809875   \n",
       "2     2023-01-11 17:25:39.615483  824.135132  847.164856  848.809875   \n",
       "3     2023-01-11 17:25:39.615483  837.294983  848.809875  843.874939   \n",
       "4     2023-01-11 17:25:39.615483  847.164856  853.744812  838.940002   \n",
       "...                          ...         ...         ...         ...   \n",
       "3108  2023-01-11 17:25:53.663147  852.099792  861.969727  861.969727   \n",
       "3109  2023-01-11 17:25:53.663147  834.005005  845.519897  840.584961   \n",
       "3110  2023-01-11 17:25:53.663147  847.164856  845.519897  835.650024   \n",
       "3111  2023-01-11 17:25:53.664149  837.294983  850.454834  842.229919   \n",
       "3112  2023-01-11 17:25:53.724123  820.845215  848.809875  842.229919   \n",
       "\n",
       "               4  \n",
       "0     834.005005  \n",
       "1     825.780151  \n",
       "2     832.360046  \n",
       "3     840.584961  \n",
       "4     834.005005  \n",
       "...          ...  \n",
       "3108  840.584961  \n",
       "3109  837.294983  \n",
       "3110  838.940002  \n",
       "3111  830.715088  \n",
       "3112  834.005005  \n",
       "\n",
       "[3113 rows x 5 columns]"
      ]
     },
     "execution_count": 23,
     "metadata": {},
     "output_type": "execute_result"
    }
   ],
   "source": [
    "# Read the EEG data from dat directory\n",
    "test_file = pd.read_csv('data/GO/dk1_1673475938.csv', header=None)\n",
    "test_file"
   ]
  },
  {
   "cell_type": "markdown",
   "id": "4068bc35",
   "metadata": {},
   "source": [
    "## Convert to wavelet transform signal squeezed"
   ]
  },
  {
   "cell_type": "code",
   "execution_count": 36,
   "id": "46c48f0c",
   "metadata": {},
   "outputs": [
    {
     "data": {
      "text/plain": [
       "float"
      ]
     },
     "execution_count": 36,
     "metadata": {},
     "output_type": "execute_result"
    }
   ],
   "source": [
    "# Convert to numpy arrays\n",
    "timestamps, tp9, af7, af8, tp10 = test_file.T.to_numpy()\n",
    "\n",
    "# Get the frequency of the samples\n",
    "start = datetime.strptime(str(timestamps[0]), \"%Y-%m-%d %H:%M:%S.%f\")\n",
    "end = datetime.strptime(str(timestamps[-1]), \"%Y-%m-%d %H:%M:%S.%f\")\n",
    "duration = (end-start).total_seconds()\n",
    "fs = timestamps.size/duration\n",
    "\n",
    "Twtp9, Wtp9, *_ = ssq_cwt(tp9, fs=fs)"
   ]
  },
  {
   "cell_type": "code",
   "execution_count": 31,
   "id": "cf19e93c",
   "metadata": {},
   "outputs": [
    {
     "data": {
      "text/plain": [
       "array([['2023-01-11 17:25:39.613477', '2023-01-11 17:25:39.615483',\n",
       "        '2023-01-11 17:25:39.615483', ..., '2023-01-11 17:25:53.663147',\n",
       "        '2023-01-11 17:25:53.664149', '2023-01-11 17:25:53.724123'],\n",
       "       [830.715087890625, 832.3600463867188, 824.1351318359375, ...,\n",
       "        847.1648559570312, 837.2949829101562, 820.84521484375],\n",
       "       [837.2949829101562, 858.6797485351562, 847.1648559570312, ...,\n",
       "        845.5198974609375, 850.454833984375, 848.8098754882812],\n",
       "       [847.1648559570312, 848.8098754882812, 848.8098754882812, ...,\n",
       "        835.6500244140625, 842.2299194335938, 842.2299194335938],\n",
       "       [834.0050048828125, 825.7801513671875, 832.3600463867188, ...,\n",
       "        838.9400024414062, 830.715087890625, 834.0050048828125]],\n",
       "      dtype=object)"
      ]
     },
     "execution_count": 31,
     "metadata": {},
     "output_type": "execute_result"
    }
   ],
   "source": []
  }
 ],
 "metadata": {
  "kernelspec": {
   "display_name": "Python 3 (ipykernel)",
   "language": "python",
   "name": "python3"
  },
  "language_info": {
   "codemirror_mode": {
    "name": "ipython",
    "version": 3
   },
   "file_extension": ".py",
   "mimetype": "text/x-python",
   "name": "python",
   "nbconvert_exporter": "python",
   "pygments_lexer": "ipython3",
   "version": "3.8.2"
  }
 },
 "nbformat": 4,
 "nbformat_minor": 5
}
